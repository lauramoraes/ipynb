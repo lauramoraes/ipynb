{
 "cells": [
  {
   "cell_type": "code",
   "execution_count": 1,
   "metadata": {
    "collapsed": true
   },
   "outputs": [],
   "source": [
    "import elasticsearch\n",
    "import json"
   ]
  },
  {
   "cell_type": "code",
   "execution_count": 7,
   "metadata": {
    "collapsed": false
   },
   "outputs": [
    {
     "name": "stdout",
     "output_type": "stream",
     "text": [
      "804\n"
     ]
    }
   ],
   "source": [
    "with open('dbs/especies_indicadas.json') as data_file:    \n",
    "    inserted = json.load(data_file)\n",
    "print len(inserted['rows'])"
   ]
  },
  {
   "cell_type": "code",
   "execution_count": 12,
   "metadata": {
    "collapsed": true
   },
   "outputs": [],
   "source": [
    "es = elasticsearch.Elasticsearch('http://localhost')\n",
    "index = 'especies_indicadas_temp'"
   ]
  },
  {
   "cell_type": "code",
   "execution_count": 9,
   "metadata": {
    "collapsed": false
   },
   "outputs": [
    {
     "data": {
      "text/plain": [
       "True"
      ]
     },
     "execution_count": 9,
     "metadata": {},
     "output_type": "execute_result"
    }
   ],
   "source": [
    "es.ping()"
   ]
  },
  {
   "cell_type": "code",
   "execution_count": 22,
   "metadata": {
    "collapsed": false
   },
   "outputs": [
    {
     "name": "stderr",
     "output_type": "stream",
     "text": [
      "WARNING:elasticsearch:GET /especies_indicadas_temp/_all/urn%3Aoccurrence%3Afecd7680-843c-427f-8b19-ffed26e59c8c [status:404 request:0.000s]\n"
     ]
    },
    {
     "name": "stdout",
     "output_type": "stream",
     "text": [
      "urn:occurrence:fecd7680-843c-427f-8b19-ffed26e59c8c\n",
      "803\n"
     ]
    }
   ],
   "source": [
    "ok = []\n",
    "not_inserted = []\n",
    "responses = []\n",
    "\n",
    "for i, doc in enumerate(inserted['rows']):\n",
    "    doc_id = doc['id']\n",
    "    try:\n",
    "        # Get doc from ES\n",
    "        doc_temp = es.get(index=index, id=doc_id)\n",
    "        ok.append(doc_id)\n",
    "    except Exception:\n",
    "        print doc_id\n",
    "        print i\n",
    "        not_inserted.append(doc_id)    \n",
    "        #break"
   ]
  },
  {
   "cell_type": "code",
   "execution_count": 20,
   "metadata": {
    "collapsed": false
   },
   "outputs": [
    {
     "data": {
      "text/plain": [
       "{u'doc': {u'_id': u'00ba3aae-9ac6-4f39-8303-0a8e77dbf692',\n",
       "  u'_rev': u'1-74c2771cc32190678d0cea621499171d',\n",
       "  u'acceptedNameUsage': u'Gaylussacia pruinosa Loes.',\n",
       "  u'family': u'ERICACEAE',\n",
       "  u'metadata': {u'contact': u'efernandez@cncflora.jbrj.gov.br',\n",
       "   u'contributor': u'Eduardo Fernandez',\n",
       "   u'created': 1430331044,\n",
       "   u'creator': u'Eduardo Fernandez',\n",
       "   u'identifier': u'00ba3aae-9ac6-4f39-8303-0a8e77dbf692',\n",
       "   u'modified': 1430331044,\n",
       "   u'source': u'User',\n",
       "   u'type': u'taxon'},\n",
       "  u'scientificName': u'Gaylussacia pruinosa Loes.',\n",
       "  u'scientificNameAuthorship': u'Loes.',\n",
       "  u'scientificNameWithoutAuthorship': u'Gaylussacia pruinosa',\n",
       "  u'taxonID': u'00ba3aae-9ac6-4f39-8303-0a8e77dbf692',\n",
       "  u'taxonRank': u'species',\n",
       "  u'taxonomicStatus': u'accepted'},\n",
       " u'id': u'00ba3aae-9ac6-4f39-8303-0a8e77dbf692',\n",
       " u'key': u'00ba3aae-9ac6-4f39-8303-0a8e77dbf692',\n",
       " u'value': {u'rev': u'1-74c2771cc32190678d0cea621499171d'}}"
      ]
     },
     "execution_count": 20,
     "metadata": {},
     "output_type": "execute_result"
    }
   ],
   "source": [
    "inserted['rows'][0]"
   ]
  },
  {
   "cell_type": "code",
   "execution_count": 23,
   "metadata": {
    "collapsed": false
   },
   "outputs": [
    {
     "data": {
      "text/plain": [
       "{u'doc': {u'_id': u'urn:occurrence:fecd7680-843c-427f-8b19-ffed26e59c8c',\n",
       "  u'_rev': u'4-cb89680fa1dc71172487e15254e9b820',\n",
       "  u'collectionCode': u'RB',\n",
       "  u'country': u'Brasil',\n",
       "  u'dateIdentified': u'2015',\n",
       "  u'day': u'20',\n",
       "  u'decimalLatitude': -21.697242,\n",
       "  u'decimalLongitude': -43.89738,\n",
       "  u'family': u'Eriocaulaceae',\n",
       "  u'genus': u'Paepalanthus',\n",
       "  u'georeferenceProtocol': u'coletor',\n",
       "  u'georeferenceRemarks': u'',\n",
       "  u'georeferenceVerificationStatus': u'ok',\n",
       "  u'georeferencedBy': u'Fernanda Wimmer',\n",
       "  u'id': u'urn:occurrence:fecd7680-843c-427f-8b19-ffed26e59c8c',\n",
       "  u'identificationQualifier': u'Trov\\xf3, M.L.O',\n",
       "  u'identifiedBy': u'Trov\\xf3, M.L.O',\n",
       "  u'institutionCode': u'JBRJ',\n",
       "  u'locality': u'Ibitipoca',\n",
       "  u'metadata': {u'contact': u'fernanda@cncflora.net ; martrovo@gmail.com',\n",
       "   u'contributor': u'Fernanda Wimmer ; Marcelo Trov\\xf3 Lopes de Oliveira',\n",
       "   u'created': 1431956516,\n",
       "   u'creator': u'Marcelo Trov\\xf3 Lopes de Oliveira',\n",
       "   u'modified': 1432056454,\n",
       "   u'type': u'occurrence'},\n",
       "  u'month': u'1',\n",
       "  u'municipality': u'Lima Duarte',\n",
       "  u'occurrenceID': u'urn:occurrence:fecd7680-843c-427f-8b19-ffed26e59c8c',\n",
       "  u'occurrenceRemarks': u'Gruta do Cruzeiro',\n",
       "  u'occurrenceStatus': u'present',\n",
       "  u'recordNumber': u'3957',\n",
       "  u'recordedBy': u'Forzza, R.C.',\n",
       "  u'rev': u'2-7523ee68256a016b823d220ec97858c6',\n",
       "  u'scientificName': u'Paepalanthus macaheesis',\n",
       "  u'scientificNameAuthorship': u'Koern.',\n",
       "  u'specificEpithet': u'macaheesis',\n",
       "  u'stateProvince': u'Minas Gerais',\n",
       "  u'validation': {u'by': u'Marcelo Trov\\xf3 Lopes de Oliveira',\n",
       "   u'cultivated': u'no',\n",
       "   u'duplicated': u'no',\n",
       "   u'georeference': u'valid',\n",
       "   u'native': u'native',\n",
       "   u'presence': u'present',\n",
       "   u'remarks': u'',\n",
       "   u'taxonomy': u'valid'},\n",
       "  u'year': u'2005'},\n",
       " u'id': u'urn:occurrence:fecd7680-843c-427f-8b19-ffed26e59c8c',\n",
       " u'key': u'urn:occurrence:fecd7680-843c-427f-8b19-ffed26e59c8c',\n",
       " u'value': {u'rev': u'4-cb89680fa1dc71172487e15254e9b820'}}"
      ]
     },
     "execution_count": 23,
     "metadata": {},
     "output_type": "execute_result"
    }
   ],
   "source": [
    "inserted['rows'][803]"
   ]
  },
  {
   "cell_type": "code",
   "execution_count": 16,
   "metadata": {
    "collapsed": false
   },
   "outputs": [
    {
     "name": "stdout",
     "output_type": "stream",
     "text": [
      "2548\n",
      "0\n"
     ]
    }
   ],
   "source": [
    "print len(ok)\n",
    "print len(changed)"
   ]
  }
 ],
 "metadata": {
  "kernelspec": {
   "display_name": "Python 2",
   "language": "python",
   "name": "python2"
  },
  "language_info": {
   "codemirror_mode": {
    "name": "ipython",
    "version": 2
   },
   "file_extension": ".py",
   "mimetype": "text/x-python",
   "name": "python",
   "nbconvert_exporter": "python",
   "pygments_lexer": "ipython2",
   "version": "2.7.9"
  }
 },
 "nbformat": 4,
 "nbformat_minor": 0
}
