{
 "cells": [
  {
   "cell_type": "code",
   "execution_count": 1,
   "metadata": {
    "collapsed": true
   },
   "outputs": [],
   "source": [
    "import couchdb\n",
    "import elasticsearch\n",
    "from elasticsearch.helpers import scan"
   ]
  },
  {
   "cell_type": "code",
   "execution_count": 13,
   "metadata": {
    "collapsed": false
   },
   "outputs": [
    {
     "data": {
      "text/plain": [
       "True"
      ]
     },
     "execution_count": 13,
     "metadata": {},
     "output_type": "execute_result"
    }
   ],
   "source": [
    "# Set ES connection\n",
    "es = elasticsearch.Elasticsearch('http://10.10.100.48/')\n",
    "es.ping()"
   ]
  },
  {
   "cell_type": "code",
   "execution_count": 14,
   "metadata": {
    "collapsed": true
   },
   "outputs": [],
   "source": [
    "# Set CouchDB connection\n",
    "couch = couchdb.Server('http://10.10.100.48/couchdb')"
   ]
  },
  {
   "cell_type": "code",
   "execution_count": 15,
   "metadata": {
    "collapsed": true
   },
   "outputs": [],
   "source": [
    "all_email_array = []\n",
    "not_all_email = []\n",
    "error = []"
   ]
  },
  {
   "cell_type": "code",
   "execution_count": 16,
   "metadata": {
    "collapsed": false
   },
   "outputs": [],
   "source": [
    "docs = scan(es, query={\"query\": {\"match_all\": {}}})\n",
    "\n",
    "for doc in docs:\n",
    "    try:\n",
    "        doc_id = doc['_id']\n",
    "        doc_index = doc['_index']\n",
    "        contact = doc['_source']['metadata']['contact']\n",
    "        contact_array = contact.split(';')\n",
    "        contact_array = [unicode(person.strip()) for person in contact_array]\n",
    "        # Check if contact field has only emails\n",
    "        all_email = True\n",
    "        for email in contact_array:\n",
    "            if '@' not in email and email != '':\n",
    "                all_email = False\n",
    "                break\n",
    "        if not all_email:\n",
    "            not_all_email.append((doc_index, doc_id))\n",
    "        else:\n",
    "            all_email_array.append((doc_index, doc_id))\n",
    "    except Exception:\n",
    "        error.append((doc_index, doc_id))"
   ]
  },
  {
   "cell_type": "code",
   "execution_count": 17,
   "metadata": {
    "collapsed": true
   },
   "outputs": [],
   "source": [
    "import sqlite3\n",
    "\n",
    "db = sqlite3.connect(\"users.sqlite\")\n",
    "c = db.cursor()"
   ]
  },
  {
   "cell_type": "code",
   "execution_count": 25,
   "metadata": {
    "collapsed": false
   },
   "outputs": [],
   "source": [
    "all_contacts = []\n",
    "not_found = []\n",
    "too_many = []\n",
    "ok = []\n",
    "ok2 = []\n",
    "not_found2 = []\n",
    "too_many2 = []\n",
    "ok3 = []\n",
    "add_email = []\n",
    "for doc in not_all_email:\n",
    "    update = False\n",
    "    # Get alias or index name\n",
    "    aliases = es.indices.get_aliases(index=doc[0])\n",
    "    if len(aliases[doc[0]][\"aliases\"]) == 0:\n",
    "        doc_index = doc[0]\n",
    "    else:\n",
    "        doc_index = aliases[doc[0]][\"aliases\"].keys()[0]\n",
    "    doc_id = doc[1]\n",
    "    \n",
    "    # Get document\n",
    "    db = couch[doc_index]\n",
    "    doc_couch = db.get(doc_id)\n",
    "\n",
    "    contributor = doc_couch['metadata']['contributor']\n",
    "    contact = doc_couch['metadata']['contact']\n",
    "    contributor_array = contributor.split(';')\n",
    "    contact_array = contact.split(';')\n",
    "    contributor_array = [unicode(person.strip()) for person in contributor_array]\n",
    "    contact_array = [unicode(person.strip()) for person in contact_array]\n",
    "    contact_copy = list(contact_array)\n",
    "    \n",
    "    for name in contact_copy:\n",
    "        # Nome não é email e não está listado\n",
    "        if '@' not in name:\n",
    "            if name not in contributor_array:\n",
    "                # Procura pelo nome\n",
    "                c.execute('''select * from users where name='%s' ''' % name)\n",
    "                row = c.fetchall()\n",
    "                if not row:\n",
    "                    not_found.append(name)\n",
    "                elif len(row) > 1:\n",
    "                    too_many.append(name)\n",
    "                else:\n",
    "                    ok2.append(name)\n",
    "            else:\n",
    "                # Verifica se email também está\n",
    "                c.execute('''select * from users where name='%s' ''' % name)\n",
    "                row = c.fetchall()\n",
    "                \n",
    "                if not row:\n",
    "                    not_found2.append(name)\n",
    "                elif len(row) > 1:\n",
    "                    too_many2.append(name)\n",
    "                else:\n",
    "                    ok3.append(name)\n",
    "                \n",
    "                if name == 'Luiz Santos':\n",
    "                    email = 'luiz@cncflora.net'\n",
    "                elif name == 'Diogo Silva':\n",
    "                    email = 'diogo@cncflora.jbrj.gov.br'\n",
    "                else:\n",
    "                    email = row[0][1]\n",
    "                cont_antes = list(contact_array)\n",
    "                # Remove nome de contact_array\n",
    "                ix = contact_array.index(name)\n",
    "                del contact_array[ix]\n",
    "                if email not in contact_array:\n",
    "                    # Adiciona email\n",
    "                    contact_array.insert(ix, email)\n",
    "                    add_email.append((doc_index, doc_id, email, name, contributor_array, contact_array, cont_antes))\n",
    "                else:\n",
    "                    ok.append((doc_index, doc_id, email, name, contributor_array, contact_array, cont_antes))\n",
    "                update = True\n",
    "            \n",
    "    all_contacts.append(contact_array)\n",
    "    doc_couch['metadata']['contact'] = \" ; \".join(contact_array)\n",
    "    #if update:\n",
    "        #db.update([doc_couch])    "
   ]
  },
  {
   "cell_type": "code",
   "execution_count": 26,
   "metadata": {
    "collapsed": false
   },
   "outputs": [
    {
     "name": "stdout",
     "output_type": "stream",
     "text": [
      "0\n",
      "0\n",
      "0\n",
      "0\n",
      "0\n"
     ]
    }
   ],
   "source": [
    "print len(not_found)\n",
    "print len(too_many)\n",
    "print len(ok2)\n",
    "print len(ok)\n",
    "print len(add_email)"
   ]
  },
  {
   "cell_type": "code",
   "execution_count": 137,
   "metadata": {
    "collapsed": false
   },
   "outputs": [
    {
     "data": {
      "text/plain": [
       "{u'Luiz Santos'}"
      ]
     },
     "execution_count": 137,
     "metadata": {},
     "output_type": "execute_result"
    }
   ],
   "source": [
    "set(not_found)"
   ]
  },
  {
   "cell_type": "code",
   "execution_count": 23,
   "metadata": {
    "collapsed": false
   },
   "outputs": [
    {
     "data": {
      "text/plain": [
       "[(u'novas_especies_2015_08_26_19:29', u'1b951bed-4ccc-4d98-85c0-002d8c3d33b2')]"
      ]
     },
     "execution_count": 23,
     "metadata": {},
     "output_type": "execute_result"
    }
   ],
   "source": [
    "not_all_email"
   ]
  }
 ],
 "metadata": {
  "kernelspec": {
   "display_name": "Python 2",
   "language": "python",
   "name": "python2"
  },
  "language_info": {
   "codemirror_mode": {
    "name": "ipython",
    "version": 2
   },
   "file_extension": ".py",
   "mimetype": "text/x-python",
   "name": "python",
   "nbconvert_exporter": "python",
   "pygments_lexer": "ipython2",
   "version": "2.7.10"
  }
 },
 "nbformat": 4,
 "nbformat_minor": 0
}
