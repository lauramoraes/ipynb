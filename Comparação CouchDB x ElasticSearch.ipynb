{
 "cells": [
  {
   "cell_type": "markdown",
   "metadata": {},
   "source": [
    "## Comparando registros no CouchDB com ES"
   ]
  },
  {
   "cell_type": "code",
   "execution_count": 12,
   "metadata": {
    "collapsed": true
   },
   "outputs": [],
   "source": [
    "from elasticsearch import Elasticsearch\n",
    "from elasticsearch.helpers import scan\n",
    "import couchdb\n",
    "import json\n",
    "import copy"
   ]
  },
  {
   "cell_type": "code",
   "execution_count": 27,
   "metadata": {
    "collapsed": false
   },
   "outputs": [],
   "source": [
    "db_name = 'endemicas_rio_de_janeiro'\n",
    "#db_name = 'teste'\n",
    "filename = 'dbs/' + db_name + '.json'\n",
    "with open(filename) as data_file:    \n",
    "    data_original = json.load(data_file)"
   ]
  },
  {
   "cell_type": "code",
   "execution_count": 48,
   "metadata": {
    "collapsed": false
   },
   "outputs": [],
   "source": [
    "data = copy.deepcopy(data_original)"
   ]
  },
  {
   "cell_type": "code",
   "execution_count": 15,
   "metadata": {
    "collapsed": false
   },
   "outputs": [
    {
     "name": "stdout",
     "output_type": "stream",
     "text": [
      "Retrieved 22559 records from CouchDB\n"
     ]
    }
   ],
   "source": [
    "print \"Retrieved %d records from CouchDB\" % len(data['rows'])"
   ]
  },
  {
   "cell_type": "markdown",
   "metadata": {},
   "source": [
    "####Verificando se todos os registros possuem um identificador único"
   ]
  },
  {
   "cell_type": "code",
   "execution_count": 16,
   "metadata": {
    "collapsed": false
   },
   "outputs": [
    {
     "name": "stdout",
     "output_type": "stream",
     "text": [
      "22559\n"
     ]
    }
   ],
   "source": [
    "ids = [record['id'] for record in data['rows']]\n",
    "print len(set(ids))"
   ]
  },
  {
   "cell_type": "code",
   "execution_count": 18,
   "metadata": {
    "collapsed": false
   },
   "outputs": [
    {
     "data": {
      "text/plain": [
       "True"
      ]
     },
     "execution_count": 18,
     "metadata": {},
     "output_type": "execute_result"
    }
   ],
   "source": [
    "# Set ES connection\n",
    "es = Elasticsearch('http://10.10.100.48:32768/')\n",
    "es.ping()"
   ]
  },
  {
   "cell_type": "code",
   "execution_count": 46,
   "metadata": {
    "collapsed": false
   },
   "outputs": [
    {
     "data": {
      "text/plain": [
       "{u'acknowledged': True}"
      ]
     },
     "execution_count": 46,
     "metadata": {},
     "output_type": "execute_result"
    }
   ],
   "source": [
    "es.indices.delete(index='endemicas_rio_de_janeiro', ignore=[400, 404])"
   ]
  },
  {
   "cell_type": "code",
   "execution_count": 47,
   "metadata": {
    "collapsed": false
   },
   "outputs": [
    {
     "data": {
      "text/plain": [
       "{u'acknowledged': True}"
      ]
     },
     "execution_count": 47,
     "metadata": {},
     "output_type": "execute_result"
    }
   ],
   "source": [
    "es.indices.create(index='endemicas_rio_de_janeiro')"
   ]
  },
  {
   "cell_type": "code",
   "execution_count": 49,
   "metadata": {
    "collapsed": false
   },
   "outputs": [
    {
     "data": {
      "text/plain": [
       "{u'doc': {u'_id': u' HABITAT: Ep\\xedfita em Palmeiras',\n",
       "  u'_rev': u'9-49f4ee395432283aff6631e3d8d31444',\n",
       "  u'acceptedNameUsage': u' DESC: Herb\\xe1ceo ep\\xedfita',\n",
       "  u'collectionCode': u'HPAN',\n",
       "  u'comments': u'occurrence:rj:3432165',\n",
       "  u'coordinateUncertaintyInMeters': u'50 a 100 km',\n",
       "  u'country': u'Brasil',\n",
       "  u'dateIdentified': u'2003-11-',\n",
       "  u'decimalLatitude': -16.557583,\n",
       "  u'decimalLongitude': -57.806658,\n",
       "  u'family': u'Araceae',\n",
       "  u'genus': u'Philodendron',\n",
       "  u'georeferenceProtocol': u'google earth',\n",
       "  u'georeferenceVerificationStatus': u'ok',\n",
       "  u'id': u' HABITAT: Ep\\xedfita em Palmeiras',\n",
       "  u'identifiedBy': u'Carniello, M.A.',\n",
       "  u'institutionCode': u'UNEMAT',\n",
       "  u'locality': u'Porto Lim\\xe3o',\n",
       "  u'metadata': {u'contact': u'fernanda@cncflora.net ; lucasmoraes@cncflora.net',\n",
       "   u'contributor': u'Fernanda Wimmer ; Lucas Moraes',\n",
       "   u'created': 1426265349,\n",
       "   u'creator': u'Lucas Moraes',\n",
       "   u'modified': 1426977275,\n",
       "   u'type': u'occurrence'},\n",
       "  u'modified': u'2014-08-20 18:02:58-03',\n",
       "  u'month': u'8',\n",
       "  u'municipality': u'C\\xe1ceres',\n",
       "  u'occurrenceID': u' HABITAT: Ep\\xedfita em Palmeiras',\n",
       "  u'recordNumber': u'44',\n",
       "  u'recordedBy': u'Carniello, M.A.; Santos-Silva, R.; Pedroga, J.A.; Cabral, C.D.O.; Ramos, O.F.; Santos-Silva, R.; Pedroga, J.A.; Cabral, C.D.O.; Ramos, O.F.',\n",
       "  u'rev': u'7-6dc3c6ca5a3850fc063fe318785213b4',\n",
       "  u'scientificName': u'Philodendron imbe',\n",
       "  u'scientificNameAuthorship': u'Schott ex Kunth',\n",
       "  u'specificEpithet': u'imbe',\n",
       "  u'stateProvince': u'Mato Grosso',\n",
       "  u'year': u'2003'},\n",
       " u'id': u' HABITAT: Ep\\xedfita em Palmeiras',\n",
       " u'key': u' HABITAT: Ep\\xedfita em Palmeiras',\n",
       " u'value': {u'rev': u'9-49f4ee395432283aff6631e3d8d31444'}}"
      ]
     },
     "execution_count": 49,
     "metadata": {},
     "output_type": "execute_result"
    }
   ],
   "source": [
    "data['rows'][0]"
   ]
  },
  {
   "cell_type": "code",
   "execution_count": 50,
   "metadata": {
    "collapsed": false
   },
   "outputs": [],
   "source": [
    "not_inserted = []\n",
    "inserted = []\n",
    "for doc in data['rows']:\n",
    "    doc['doc']['id'] = doc['doc']['_id']\n",
    "    doc['doc']['rev'] = doc['doc']['_rev']\n",
    "    del doc['doc']['_id']\n",
    "    del doc['doc']['rev']\n",
    "    doc_type = doc['doc']['metadata']['type']\n",
    "    record_before = es.count(index=db_name, doc_type=doc_type)\n",
    "    es.index(index=db_name, doc_type=doc_type, body=doc['doc'], id=doc['doc']['id'])\n",
    "    es.indices.refresh(index=db_name)\n",
    "    record_after = es.count(index=db_name, doc_type=doc_type)\n",
    "    try:\n",
    "        assert record_before['count'] == record_after['count']-1\n",
    "        inserted.append('%s' % doc['doc']['id'])\n",
    "    except AssertionError:\n",
    "        #\"Document %s was not inserted\" % doc['doc']['id']\n",
    "        not_inserted.append('%s' % doc['doc']['id'])"
   ]
  },
  {
   "cell_type": "code",
   "execution_count": 38,
   "metadata": {
    "collapsed": false
   },
   "outputs": [
    {
     "data": {
      "text/plain": [
       "22559"
      ]
     },
     "execution_count": 38,
     "metadata": {},
     "output_type": "execute_result"
    }
   ],
   "source": [
    "len(inserted)"
   ]
  }
 ],
 "metadata": {
  "kernelspec": {
   "display_name": "Python 2",
   "language": "python",
   "name": "python2"
  },
  "language_info": {
   "codemirror_mode": {
    "name": "ipython",
    "version": 2
   },
   "file_extension": ".py",
   "mimetype": "text/x-python",
   "name": "python",
   "nbconvert_exporter": "python",
   "pygments_lexer": "ipython2",
   "version": "2.7.9"
  }
 },
 "nbformat": 4,
 "nbformat_minor": 0
}
