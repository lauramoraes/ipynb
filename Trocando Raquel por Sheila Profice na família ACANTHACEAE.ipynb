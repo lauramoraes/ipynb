{
 "cells": [
  {
   "cell_type": "code",
   "execution_count": 21,
   "metadata": {
    "collapsed": true
   },
   "outputs": [],
   "source": [
    "import couchdb\n",
    "import elasticsearch"
   ]
  },
  {
   "cell_type": "code",
   "execution_count": 48,
   "metadata": {
    "collapsed": false
   },
   "outputs": [
    {
     "data": {
      "text/plain": [
       "True"
      ]
     },
     "execution_count": 48,
     "metadata": {},
     "output_type": "execute_result"
    }
   ],
   "source": [
    "# Set ES connection\n",
    "es = elasticsearch.Elasticsearch('http://10.10.100.49/')\n",
    "es.ping()"
   ]
  },
  {
   "cell_type": "code",
   "execution_count": 49,
   "metadata": {
    "collapsed": true
   },
   "outputs": [],
   "source": [
    "# Set CouchDB connection\n",
    "couch = couchdb.Server('http://10.10.100.49/couchdb')"
   ]
  },
  {
   "cell_type": "code",
   "execution_count": 29,
   "metadata": {
    "collapsed": true
   },
   "outputs": [],
   "source": [
    "#Recuperando ocorrências\n",
    "body = \"\"\"{\n",
    "   \"filter\": {\n",
    "      \"and\": {\n",
    "         \"filters\": [\n",
    "            {\n",
    "               \"query\": {\n",
    "                  \"match\": {\n",
    "                     \"family\": \"ACANTHACEAE\"\n",
    "                  }\n",
    "               }\n",
    "            },\n",
    "            {\n",
    "               \"query\": {\n",
    "                  \"match\": {\n",
    "                     \"validation.by\": \"Raquel\"\n",
    "                  }\n",
    "               }\n",
    "            }\n",
    "         ]\n",
    "      }\n",
    "   }\n",
    "}\"\"\""
   ]
  },
  {
   "cell_type": "code",
   "execution_count": 30,
   "metadata": {
    "collapsed": false
   },
   "outputs": [
    {
     "name": "stdout",
     "output_type": "stream",
     "text": [
      "Got 121 documents\n"
     ]
    }
   ],
   "source": [
    "docs = es.search(index='endemicas_rio_de_janeiro', body=body, doc_type='occurrence', size=5000)\n",
    "print \"Got %d documents\" % len(docs['hits']['hits'])"
   ]
  },
  {
   "cell_type": "code",
   "execution_count": 33,
   "metadata": {
    "collapsed": false
   },
   "outputs": [],
   "source": [
    "not_found = []\n",
    "diff_len = []\n",
    "\n",
    "for doc in docs['hits']['hits']:\n",
    "    # Get alias or index name\n",
    "    #aliases = es.indices.get_aliases(index=doc[\"_index\"])\n",
    "    #if len(aliases[doc[\"_index\"]][\"aliases\"]) == 0:\n",
    "    #    doc_index = doc[\"_index\"]\n",
    "    #else:\n",
    "    #    doc_index = aliases[doc[\"_index\"]][\"aliases\"].keys()[0]\n",
    "    doc_index = 'endemicas_rio_de_janeiro'\n",
    "    doc_id = doc['_id']\n",
    "    \n",
    "    # Get document\n",
    "    try:\n",
    "        db = couch[doc_index]\n",
    "    except couchdb.ServerError:\n",
    "        print doc_index\n",
    "        break\n",
    "    doc_couch = db.get(doc_id)\n",
    "    if doc_couch == None:\n",
    "        not_found.append(doc_id)\n",
    "        continue\n",
    "        \n",
    "    # Get fields\n",
    "    doc_couch['validation']['by'] = 'Sheila Profice'\n",
    "    contributor = doc_couch['metadata']['contributor']\n",
    "    contact = doc_couch['metadata']['contact']\n",
    "    contributor_array = contributor.split(';')\n",
    "    contact_array = contact.split(';')\n",
    "    contributor_array = [unicode(person.strip()) for person in contributor_array]\n",
    "    contact_array = [unicode(person.strip()) for person in contact_array]\n",
    "    if len(contributor_array) != len(contact_array):\n",
    "        diff_len.append(doc_id)\n",
    "        continue\n",
    "    contributor_array.append('Sheila Profice')\n",
    "    contact_array.append('sprofice@jbrj.gov.br')\n",
    "    doc_couch['metadata']['contributor'] = \" ; \".join(contributor_array)\n",
    "    doc_couch['metadata']['contact'] = \" ; \".join(contact_array)\n",
    "    \n",
    "    db.update([doc_couch])"
   ]
  },
  {
   "cell_type": "code",
   "execution_count": 32,
   "metadata": {
    "collapsed": false
   },
   "outputs": [
    {
     "name": "stdout",
     "output_type": "stream",
     "text": [
      "Not found: 0\n",
      "Diff len: 0\n"
     ]
    }
   ],
   "source": [
    "print \"Not found: %d\" % len(not_found)\n",
    "print \"Diff len: %d\" % len(diff_len)"
   ]
  },
  {
   "cell_type": "code",
   "execution_count": 42,
   "metadata": {
    "collapsed": true
   },
   "outputs": [],
   "source": [
    "#Recuperando avaliações\n",
    "body = \"\"\"{\n",
    "    \"filter\": {\"exists\": {\n",
    "       \"field\": \"validations.comment\"\n",
    "    }},\n",
    "    \"query\": {\"match\": {\n",
    "       \"taxon.family\": \"ACANTHACEAE\"\n",
    "    }}\n",
    "}\"\"\""
   ]
  },
  {
   "cell_type": "code",
   "execution_count": 50,
   "metadata": {
    "collapsed": false
   },
   "outputs": [
    {
     "name": "stdout",
     "output_type": "stream",
     "text": [
      "Got 9 documents\n"
     ]
    }
   ],
   "source": [
    "docs = es.search(index='endemicas_rio_de_janeiro', body=body, doc_type='profile', size=5000)\n",
    "print \"Got %d documents\" % len(docs['hits']['hits'])"
   ]
  },
  {
   "cell_type": "code",
   "execution_count": 53,
   "metadata": {
    "collapsed": false
   },
   "outputs": [
    {
     "name": "stdout",
     "output_type": "stream",
     "text": [
      "profile:550971e392515\n",
      "Sheila Profice sprofice@jbrj.gov.br\n",
      "Raquel Negrão ; Sheila Profice\n",
      "raquel@cncflora.net ; sprofice@jbrj.gov.br\n",
      "\n",
      "\n",
      "profile:55102646b8d60\n",
      "Sheila Profice sprofice@jbrj.gov.br\n",
      "Raquel Negrão ; Sheila Profice\n",
      "raquel@cncflora.net ; sprofice@jbrj.gov.br\n",
      "\n",
      "\n",
      "profile:5509811034926\n",
      "Sheila Profice sprofice@jbrj.gov.br\n",
      "Sheila Profice sprofice@jbrj.gov.br\n",
      "Raquel Negrão ; Sheila Profice\n",
      "raquel@cncflora.net ; sprofice@jbrj.gov.br\n",
      "\n",
      "\n",
      "profile:5509a8029b6e8\n",
      "Sheila Profice sprofice@jbrj.gov.br\n",
      "Sheila Profice sprofice@jbrj.gov.br\n",
      "Sheila Profice sprofice@jbrj.gov.br\n",
      "Sheila Profice sprofice@jbrj.gov.br\n",
      "Raquel Negrão ; Sheila Profice\n",
      "raquel@cncflora.net ; sprofice@jbrj.gov.br\n",
      "\n",
      "\n",
      "profile:55019eb345576\n",
      "Sheila Profice sprofice@jbrj.gov.br\n",
      "Sheila Profice sprofice@jbrj.gov.br\n",
      "Raquel Negrão ; Sheila Profice\n",
      "raquel@cncflora.net ; sprofice@jbrj.gov.br\n",
      "\n",
      "\n",
      "profile:55100a2c8c7e0\n",
      "Sheila Profice sprofice@jbrj.gov.br\n",
      "Sheila Profice sprofice@jbrj.gov.br\n",
      "Raquel Negrão ; Sheila Profice\n",
      "raquel@cncflora.net ; sprofice@jbrj.gov.br\n",
      "\n",
      "\n",
      "profile:550043127a04c\n",
      "Sheila Profice sprofice@jbrj.gov.br\n",
      "Raquel Negrão ; Sheila Profice\n",
      "raquel@cncflora.net ; sprofice@jbrj.gov.br\n",
      "\n",
      "\n",
      "profile:54d39bc42985f\n",
      "Sheila Profice sprofice@jbrj.gov.br\n",
      "Sheila Profice sprofice@jbrj.gov.br\n",
      "Sheila Profice sprofice@jbrj.gov.br\n",
      "Sheila Profice sprofice@jbrj.gov.br\n",
      "Sheila Profice sprofice@jbrj.gov.br\n",
      "Raquel Negrão ; Sheila Profice\n",
      "raquel@cncflora.net ; sprofice@jbrj.gov.br\n",
      "\n",
      "\n",
      "profile:5509a5ad8b020\n",
      "Sheila Profice sprofice@jbrj.gov.br\n",
      "Sheila Profice sprofice@jbrj.gov.br\n",
      "Sheila Profice sprofice@jbrj.gov.br\n",
      "Raquel Negrão ; Sheila Profice\n",
      "raquel@cncflora.net ; sprofice@jbrj.gov.br\n",
      "\n",
      "\n"
     ]
    }
   ],
   "source": [
    "for doc in docs['hits']['hits']:\n",
    "    doc_index = 'endemicas_rio_de_janeiro'\n",
    "    doc_id = doc['_id']\n",
    "    \n",
    "    # Get document\n",
    "    try:\n",
    "        db = couch[doc_index]\n",
    "    except couchdb.ServerError:\n",
    "        print doc_index\n",
    "        break\n",
    "    doc_couch = db.get(doc_id)\n",
    "    if doc_couch == None:\n",
    "        not_found.append(doc_id)\n",
    "        continue\n",
    "        \n",
    "    validations = doc_couch['validations']\n",
    "    print doc_id\n",
    "    for ix, val in enumerate(validations):\n",
    "        print val['metadata']['creator'], val['metadata']['contact']\n",
    "        doc_couch['validations'][ix]['metadata']['creator'] = 'Sheila Profice'\n",
    "        doc_couch['validations'][ix]['metadata']['contact'] = 'sprofice@jbrj.gov.br'\n",
    "        contributor = doc_couch['metadata']['contributor']\n",
    "        contact = doc_couch['metadata']['contact']\n",
    "        contributor_array = contributor.split(';')\n",
    "        contact_array = contact.split(';')\n",
    "        contributor_array = [unicode(person.strip()) for person in contributor_array]\n",
    "        contact_array = [unicode(person.strip()) for person in contact_array]\n",
    "        contributor_array.append('Sheila Profice')\n",
    "        contact_array.append('sprofice@jbrj.gov.br')\n",
    "    print doc_couch['metadata']['contributor']\n",
    "    print doc_couch['metadata']['contact']\n",
    "    doc_couch['metadata']['contributor'] = \" ; \".join(contributor_array)\n",
    "    doc_couch['metadata']['contact'] = \" ; \".join(contact_array)\n",
    "    print \"\\n\"\n",
    "    \n",
    "    #db.update([doc_couch])"
   ]
  }
 ],
 "metadata": {
  "kernelspec": {
   "display_name": "Python 2",
   "language": "python",
   "name": "python2"
  },
  "language_info": {
   "codemirror_mode": {
    "name": "ipython",
    "version": 2
   },
   "file_extension": ".py",
   "mimetype": "text/x-python",
   "name": "python",
   "nbconvert_exporter": "python",
   "pygments_lexer": "ipython2",
   "version": "2.7.9"
  }
 },
 "nbformat": 4,
 "nbformat_minor": 0
}
