{
 "cells": [
  {
   "cell_type": "code",
   "execution_count": 1,
   "metadata": {
    "collapsed": true
   },
   "outputs": [],
   "source": [
    "import couchdb\n",
    "import json"
   ]
  },
  {
   "cell_type": "code",
   "execution_count": 2,
   "metadata": {
    "collapsed": false
   },
   "outputs": [
    {
     "name": "stdout",
     "output_type": "stream",
     "text": [
      "2548\n"
     ]
    }
   ],
   "source": [
    "with open('dbs/not_inserted_livro_vermelho_2013.json') as data_file:    \n",
    "    not_inserted = json.load(data_file)\n",
    "print len(not_inserted)"
   ]
  },
  {
   "cell_type": "code",
   "execution_count": 10,
   "metadata": {
    "collapsed": true
   },
   "outputs": [],
   "source": [
    "couch = couchdb.Server('http://jb048/couchdb')\n",
    "db = couch['public']"
   ]
  },
  {
   "cell_type": "code",
   "execution_count": 15,
   "metadata": {
    "collapsed": false
   },
   "outputs": [],
   "source": [
    "ok = []\n",
    "changed = []\n",
    "responses = []\n",
    "\n",
    "for doc_id in not_inserted:\n",
    "    # Get doc from CouchDB\n",
    "    doc = db.get(doc_id)\n",
    "    \n",
    "    # Check for docs with different extremeFluctuation mapping\n",
    "    population = doc['population']\n",
    "    try:\n",
    "        extremeFluctuation = population['extremeFluctuation']['extremeFluctuation']\n",
    "        ok.append(doc_id)\n",
    "    except TypeError:\n",
    "        extremeFluctuation = population['extremeFluctuation']\n",
    "        doc['population']['extremeFluctuation'] = {\"extremeFluctuation\": extremeFluctuation}\n",
    "        response = db.update([doc])\n",
    "        responses.append(response)\n",
    "        changed.append(doc_id)"
   ]
  },
  {
   "cell_type": "code",
   "execution_count": 16,
   "metadata": {
    "collapsed": false
   },
   "outputs": [
    {
     "name": "stdout",
     "output_type": "stream",
     "text": [
      "2548\n",
      "0\n"
     ]
    }
   ],
   "source": [
    "print len(ok)\n",
    "print len(changed)"
   ]
  }
 ],
 "metadata": {
  "kernelspec": {
   "display_name": "Python 2",
   "language": "python",
   "name": "python2"
  },
  "language_info": {
   "codemirror_mode": {
    "name": "ipython",
    "version": 2
   },
   "file_extension": ".py",
   "mimetype": "text/x-python",
   "name": "python",
   "nbconvert_exporter": "python",
   "pygments_lexer": "ipython2",
   "version": "2.7.9"
  }
 },
 "nbformat": 4,
 "nbformat_minor": 0
}
