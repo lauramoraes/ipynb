{
 "cells": [
  {
   "cell_type": "markdown",
   "metadata": {},
   "source": [
    "### Para cada caso listado no ticket #242:\n",
    "1. Procurar todos os casos no ES em que a condição acontece\n",
    "+ Para cada caso do item 1, consertar o valor encontrado pelo esperado no CouchDB\n",
    "+ Reindexar banco (fora deste script)"
   ]
  },
  {
   "cell_type": "code",
   "execution_count": 50,
   "metadata": {
    "collapsed": true
   },
   "outputs": [],
   "source": [
    "import couchdb\n",
    "import elasticsearch\n",
    "import json"
   ]
  },
  {
   "cell_type": "code",
   "execution_count": 235,
   "metadata": {
    "collapsed": false
   },
   "outputs": [
    {
     "data": {
      "text/plain": [
       "True"
      ]
     },
     "execution_count": 235,
     "metadata": {},
     "output_type": "execute_result"
    }
   ],
   "source": [
    "# Set ES connection\n",
    "es = elasticsearch.Elasticsearch('http://10.10.100.49/')\n",
    "es.ping()"
   ]
  },
  {
   "cell_type": "code",
   "execution_count": 236,
   "metadata": {
    "collapsed": true
   },
   "outputs": [],
   "source": [
    "# Set CouchDB connection\n",
    "couch = couchdb.Server('http://10.10.100.49/couchdb')"
   ]
  },
  {
   "cell_type": "code",
   "execution_count": 77,
   "metadata": {
    "collapsed": false
   },
   "outputs": [],
   "source": [
    "def search_es(body):\n",
    "    docs = es.search(index='_all', body=body, doc_type='occurrence', size=5000)\n",
    "    print \"Got %d documents\" % len(docs['hits']['hits'])\n",
    "    return docs"
   ]
  },
  {
   "cell_type": "code",
   "execution_count": 362,
   "metadata": {
    "collapsed": false
   },
   "outputs": [],
   "source": [
    "def print_analysis(begin_space, end_space, mistyped, normal, limbo):\n",
    "    print \"Foram encontrados %d registros com espaço no inicio.\" % len(begin_space)\n",
    "    print \"Foram encontrados %d registros com espaço no final.\" % len(end_space)\n",
    "    print \"Foram encontrados %d registros escritos errados.\" % len(mistyped)\n",
    "    print \"Foram encontrados %d registros normais.\" % len(normal)\n",
    "    print \"Foram encontrados %d registros no limbo.\" % len(limbo)\n",
    "\n",
    "def get_ids_to_fix(docs, mistyped_search, correct):\n",
    "    begin_space = []\n",
    "    end_space = []\n",
    "    mistyped = []\n",
    "    normal = []\n",
    "    limbo = []\n",
    "    id_test = ''\n",
    "    for idx, doc in enumerate(docs['hits']['hits']):\n",
    "        precision = doc['_source']['coordinateUncertaintyInMeters']\n",
    "        # Check for empty spaces before\n",
    "        if precision[0].isspace():\n",
    "            begin_space.append((doc['_index'], doc['_id']))\n",
    "            if doc['_id'] == id_test:\n",
    "                print \"begin\"\n",
    "        # Check for empty spaces after\n",
    "        elif precision[len(precision)-1].isspace():\n",
    "            end_space.append((doc['_index'], doc['_id']))\n",
    "            if doc['_id'] == id_test:\n",
    "                print \"end\"\n",
    "        # Check for mistyped conditions\n",
    "        elif precision.lower() in mistyped_search:\n",
    "            mistyped.append((doc['_index'], doc['_id']))\n",
    "            if doc['_id'] == id_test:\n",
    "                print \"mistyped\"\n",
    "        elif precision == correct:\n",
    "            normal.append((doc['_index'], doc['_id']))\n",
    "            if doc['_id'] == id_test:\n",
    "                print precision\n",
    "                print \"normal\"\n",
    "        else:\n",
    "            limbo.append((doc['_index'], doc['_id']))\n",
    "            if doc['_id'] == id_test:\n",
    "                print precision\n",
    "                print \"limbo\"\n",
    "\n",
    "        if not (idx % 100):\n",
    "            print \"Analisando doc %i\" % idx\n",
    "    print \"\\n\\n\"\n",
    "    print_analysis(begin_space, end_space, mistyped, normal, limbo)\n",
    "    return (begin_space, end_space, mistyped, normal, limbo)\n",
    "\n",
    "def update_couch(to_fix, correct):\n",
    "    not_found = []\n",
    "    for doc in to_fix:\n",
    "        # Get alias or index name\n",
    "        aliases = es.indices.get_aliases(index=doc[0])\n",
    "        if len(aliases[doc[0]][\"aliases\"]) == 0:\n",
    "            doc_index = doc[0]\n",
    "        else:\n",
    "            doc_index = aliases[doc[0]][\"aliases\"].keys()[0]\n",
    "        doc_id = doc[1]\n",
    "        \n",
    "        print (doc_index, doc_id)\n",
    "        \n",
    "        # Get document\n",
    "        try:\n",
    "            db = couch[doc_index]\n",
    "        except couchdb.ServerError:\n",
    "            print doc_index\n",
    "            break\n",
    "        doc_couch = db.get(doc_id)\n",
    "        if doc_couch == None:\n",
    "            not_found.append(doc_id)\n",
    "            continue\n",
    "\n",
    "        doc_couch['coordinateUncertaintyInMeters'] = correct\n",
    "        db.update([doc_couch])\n",
    "    return not_found"
   ]
  },
  {
   "cell_type": "markdown",
   "metadata": {},
   "source": [
    "#### Pós-análise"
   ]
  },
  {
   "cell_type": "code",
   "execution_count": 266,
   "metadata": {
    "collapsed": true
   },
   "outputs": [],
   "source": [
    "from collections import Counter"
   ]
  },
  {
   "cell_type": "code",
   "execution_count": 319,
   "metadata": {
    "collapsed": false
   },
   "outputs": [
    {
     "name": "stdout",
     "output_type": "stream",
     "text": [
      "Counter({u'Centroide de reserva/parque': 7, u'centroide de reserva/parque': 2})\n"
     ]
    }
   ],
   "source": [
    "error = []\n",
    "total = []\n",
    "body_id = {\n",
    "    \"query\": {\"match\": {\n",
    "       \"_id\": \"\"\n",
    "    }},\n",
    "    \"fields\": [\n",
    "       \"coordinateUncertaintyInMeters\"\n",
    "    ]\n",
    "}\n",
    "\n",
    "for doc in mistyped:\n",
    "    # Get alias or index name\n",
    "    aliases = es.indices.get_aliases(index=doc[0])\n",
    "    if len(aliases[doc[0]][\"aliases\"]) == 0:\n",
    "        doc_index = doc[0]\n",
    "    else:\n",
    "        doc_index = aliases[doc[0]][\"aliases\"].keys()[0]\n",
    "    doc_id = doc[1]\n",
    "    body_id['query']['match']['_id'] = doc_id\n",
    "    doc = es.search(index=doc_index, body=json.dumps(body_id), doc_type='occurrence', size=1)\n",
    "    precision = doc['hits']['hits'][0]['fields']['coordinateUncertaintyInMeters']\n",
    "    #print precision\n",
    "    total.append(precision[0])\n",
    "print Counter(total)"
   ]
  },
  {
   "cell_type": "markdown",
   "metadata": {},
   "source": [
    "#### Caso 1: 0 a 250 m"
   ]
  },
  {
   "cell_type": "code",
   "execution_count": 368,
   "metadata": {
    "collapsed": false
   },
   "outputs": [
    {
     "name": "stdout",
     "output_type": "stream",
     "text": [
      "Got 737 documents\n"
     ]
    }
   ],
   "source": [
    "body=\"\"\"{\n",
    "   \"query\": {\n",
    "      \"bool\": {\n",
    "         \"should\": [\n",
    "            {\n",
    "               \"match\": {\n",
    "                  \"coordinateUncertaintyInMeters\": \" 0 a 250 m\"\n",
    "               }\n",
    "            },\n",
    "            {\n",
    "               \"match\": {\n",
    "                  \"coordinateUncertaintyInMeters\": \" 0 a 250m\"\n",
    "               }\n",
    "            },\n",
    "            {\n",
    "               \"match\": {\n",
    "                  \"coordinateUncertaintyInMeters\": \" 0 a 250\"\n",
    "               }\n",
    "            }\n",
    "         ],\n",
    "         \"minimum_number_should_match\": 1\n",
    "      }\n",
    "   }\n",
    "}\"\"\"\n",
    "docs = search_es(body)"
   ]
  },
  {
   "cell_type": "code",
   "execution_count": 369,
   "metadata": {
    "collapsed": false
   },
   "outputs": [
    {
     "name": "stdout",
     "output_type": "stream",
     "text": [
      "Analisando doc 0\n",
      "Analisando doc 100\n",
      "Analisando doc 200\n",
      "Analisando doc 300\n",
      "Analisando doc 400\n",
      "Analisando doc 500\n",
      "Analisando doc 600\n",
      "Analisando doc 700\n",
      "\n",
      "\n",
      "\n",
      "Foram encontrados 0 registros com espaço no inicio.\n",
      "Foram encontrados 0 registros com espaço no final.\n",
      "Foram encontrados 0 registros escritos errados.\n",
      "Foram encontrados 737 registros normais.\n",
      "Foram encontrados 0 registros no limbo.\n"
     ]
    }
   ],
   "source": [
    "(begin_space, end_space, mistyped, normal, limbo) = get_ids_to_fix(docs, [\"0 a 250\", \"0 a 250m\"], \"0 a 250 m\")\n",
    "to_fix = begin_space + end_space + mistyped + limbo"
   ]
  },
  {
   "cell_type": "code",
   "execution_count": 259,
   "metadata": {
    "collapsed": false,
    "scrolled": true
   },
   "outputs": [
    {
     "name": "stdout",
     "output_type": "stream",
     "text": [
      "Não foram encontrados 0 documentos\n"
     ]
    }
   ],
   "source": [
    "not_found = update_couch(to_fix, \"0 a 250 m\")\n",
    "print \"Não foram encontrados %d documentos\" % len(not_found)"
   ]
  },
  {
   "cell_type": "markdown",
   "metadata": {},
   "source": [
    "#### Caso 2: 250 a 1000 m"
   ]
  },
  {
   "cell_type": "code",
   "execution_count": 370,
   "metadata": {
    "collapsed": false
   },
   "outputs": [
    {
     "name": "stdout",
     "output_type": "stream",
     "text": [
      "Got 2482 documents\n"
     ]
    }
   ],
   "source": [
    "body=\"\"\"{\n",
    "   \"query\": {\n",
    "      \"bool\": {\n",
    "         \"should\": [\n",
    "            {\n",
    "               \"match\": {\n",
    "                  \"coordinateUncertaintyInMeters\": \"250 a 1000 m\"\n",
    "               }\n",
    "            },\n",
    "            {\n",
    "               \"match\": {\n",
    "                  \"coordinateUncertaintyInMeters\": \"250 a 1000\"\n",
    "               }\n",
    "            },\n",
    "            {\n",
    "               \"match\": {\n",
    "                  \"coordinateUncertaintyInMeters\": \"250 a 1000m\"\n",
    "               }\n",
    "            },\n",
    "            {\n",
    "               \"match\": {\n",
    "                  \"coordinateUncertaintyInMeters\": \"251 a 1000 m\"\n",
    "               }\n",
    "            },\n",
    "            {\n",
    "               \"match\": {\n",
    "                  \"coordinateUncertaintyInMeters\": \"0,250 a 1km\"\n",
    "               }\n",
    "            },\n",
    "            {\n",
    "               \"match\": {\n",
    "                  \"coordinateUncertaintyInMeters\": \"0,251 a 1km\"\n",
    "               }\n",
    "            },\n",
    "            {\n",
    "               \"match\": {\n",
    "                  \"coordinateUncertaintyInMeters\": \"205 a 1000 m\"\n",
    "               }\n",
    "            }\n",
    "         ],\n",
    "         \"minimum_number_should_match\": 1\n",
    "      }\n",
    "   }\n",
    "}\"\"\"\n",
    "docs = search_es(body)"
   ]
  },
  {
   "cell_type": "code",
   "execution_count": 371,
   "metadata": {
    "collapsed": false
   },
   "outputs": [
    {
     "name": "stdout",
     "output_type": "stream",
     "text": [
      "Analisando doc 0\n",
      "Analisando doc 100\n",
      "Analisando doc 200\n",
      "Analisando doc 300\n",
      "Analisando doc 400\n",
      "Analisando doc 500\n",
      "Analisando doc 600\n",
      "Analisando doc 700\n",
      "Analisando doc 800\n",
      "Analisando doc 900\n",
      "Analisando doc 1000\n",
      "Analisando doc 1100\n",
      "Analisando doc 1200\n",
      "Analisando doc 1300\n",
      "Analisando doc 1400\n",
      "Analisando doc 1500\n",
      "Analisando doc 1600\n",
      "Analisando doc 1700\n",
      "Analisando doc 1800\n",
      "Analisando doc 1900\n",
      "Analisando doc 2000\n",
      "Analisando doc 2100\n",
      "Analisando doc 2200\n",
      "Analisando doc 2300\n",
      "Analisando doc 2400\n",
      "\n",
      "\n",
      "\n",
      "Foram encontrados 0 registros com espaço no inicio.\n",
      "Foram encontrados 0 registros com espaço no final.\n",
      "Foram encontrados 0 registros escritos errados.\n",
      "Foram encontrados 2482 registros normais.\n",
      "Foram encontrados 0 registros no limbo.\n"
     ]
    }
   ],
   "source": [
    "(begin_space, end_space, mistyped, normal, limbo) = get_ids_to_fix(docs, [\"250 a 1000\", \"250 a 1000m\", \"251 a 1000 m\",\n",
    "                                                                  \"0,250 a 1km\", \"0,251 a 1km\", \"205 a 1000 m\"], \"250 a 1000 m\")\n",
    "to_fix = begin_space + end_space + mistyped + limbo"
   ]
  },
  {
   "cell_type": "code",
   "execution_count": 345,
   "metadata": {
    "collapsed": false,
    "scrolled": true
   },
   "outputs": [
    {
     "name": "stdout",
     "output_type": "stream",
     "text": [
      "Não foram encontrados 0 documentos\n"
     ]
    }
   ],
   "source": [
    "not_found = update_couch(to_fix, \"250 a 1000 m\")\n",
    "print \"Não foram encontrados %d documentos\" % len(not_found)"
   ]
  },
  {
   "cell_type": "markdown",
   "metadata": {},
   "source": [
    "#### Caso 3: 1 a 5 km"
   ]
  },
  {
   "cell_type": "code",
   "execution_count": 372,
   "metadata": {
    "collapsed": false
   },
   "outputs": [
    {
     "name": "stdout",
     "output_type": "stream",
     "text": [
      "Got 2670 documents\n"
     ]
    }
   ],
   "source": [
    "body=\"\"\"{\n",
    "   \"query\": {\n",
    "      \"bool\": {\n",
    "         \"should\": [\n",
    "            {\n",
    "               \"match\": {\n",
    "                  \"coordinateUncertaintyInMeters\": \"1 a 5 km\"\n",
    "               }\n",
    "            },\n",
    "            {\n",
    "               \"match\": {\n",
    "                  \"coordinateUncertaintyInMeters\": \"1 a 5km\"\n",
    "               }\n",
    "            }\n",
    "         ],\n",
    "         \"minimum_number_should_match\": 1\n",
    "      }\n",
    "   }\n",
    "}\"\"\"\n",
    "docs = search_es(body)"
   ]
  },
  {
   "cell_type": "code",
   "execution_count": 373,
   "metadata": {
    "collapsed": false
   },
   "outputs": [
    {
     "name": "stdout",
     "output_type": "stream",
     "text": [
      "Analisando doc 0\n",
      "Analisando doc 100\n",
      "Analisando doc 200\n",
      "Analisando doc 300\n",
      "Analisando doc 400\n",
      "Analisando doc 500\n",
      "Analisando doc 600\n",
      "Analisando doc 700\n",
      "Analisando doc 800\n",
      "Analisando doc 900\n",
      "Analisando doc 1000\n",
      "Analisando doc 1100\n",
      "Analisando doc 1200\n",
      "Analisando doc 1300\n",
      "Analisando doc 1400\n",
      "Analisando doc 1500\n",
      "Analisando doc 1600\n",
      "Analisando doc 1700\n",
      "Analisando doc 1800\n",
      "Analisando doc 1900\n",
      "Analisando doc 2000\n",
      "Analisando doc 2100\n",
      "Analisando doc 2200\n",
      "Analisando doc 2300\n",
      "Analisando doc 2400\n",
      "Analisando doc 2500\n",
      "Analisando doc 2600\n",
      "\n",
      "\n",
      "\n",
      "Foram encontrados 0 registros com espaço no inicio.\n",
      "Foram encontrados 0 registros com espaço no final.\n",
      "Foram encontrados 0 registros escritos errados.\n",
      "Foram encontrados 2670 registros normais.\n",
      "Foram encontrados 0 registros no limbo.\n"
     ]
    }
   ],
   "source": [
    "(begin_space, end_space, mistyped, normal, limbo) = get_ids_to_fix(docs, [\"1 a 5km\"], \"1 a 5 km\")\n",
    "to_fix = begin_space + end_space + mistyped + limbo"
   ]
  },
  {
   "cell_type": "code",
   "execution_count": 356,
   "metadata": {
    "collapsed": false,
    "scrolled": true
   },
   "outputs": [
    {
     "name": "stdout",
     "output_type": "stream",
     "text": [
      "(u'endemicas_rio_de_janeiro', u'occurrence:rj:857245')\n",
      "(u'endemicas_rio_de_janeiro', u'occurrence:rj:4570575')\n",
      "Não foram encontrados 0 documentos\n"
     ]
    }
   ],
   "source": [
    "not_found = update_couch(to_fix, \"1 a 5 km\")\n",
    "print \"Não foram encontrados %d documentos\" % len(not_found)"
   ]
  },
  {
   "cell_type": "markdown",
   "metadata": {},
   "source": [
    "#### Caso 3: 5 a 10 km"
   ]
  },
  {
   "cell_type": "code",
   "execution_count": 374,
   "metadata": {
    "collapsed": false
   },
   "outputs": [
    {
     "name": "stdout",
     "output_type": "stream",
     "text": [
      "Got 2834 documents\n"
     ]
    }
   ],
   "source": [
    "body=\"\"\"{\n",
    "   \"query\": {\n",
    "      \"bool\": {\n",
    "         \"should\": [\n",
    "            {\n",
    "               \"match\": {\n",
    "                  \"coordinateUncertaintyInMeters\": \"5 a 10 km\"\n",
    "               }\n",
    "            },\n",
    "            {\n",
    "               \"match\": {\n",
    "                  \"coordinateUncertaintyInMeters\": \"5 a 10km\"\n",
    "               }\n",
    "            }\n",
    "         ],\n",
    "         \"minimum_number_should_match\": 1\n",
    "      }\n",
    "   }\n",
    "}\"\"\"\n",
    "docs = search_es(body)"
   ]
  },
  {
   "cell_type": "code",
   "execution_count": 375,
   "metadata": {
    "collapsed": false
   },
   "outputs": [
    {
     "name": "stdout",
     "output_type": "stream",
     "text": [
      "Analisando doc 0\n",
      "Analisando doc 100\n",
      "Analisando doc 200\n",
      "Analisando doc 300\n",
      "Analisando doc 400\n",
      "Analisando doc 500\n",
      "Analisando doc 600\n",
      "Analisando doc 700\n",
      "Analisando doc 800\n",
      "Analisando doc 900\n",
      "Analisando doc 1000\n",
      "Analisando doc 1100\n",
      "Analisando doc 1200\n",
      "Analisando doc 1300\n",
      "Analisando doc 1400\n",
      "Analisando doc 1500\n",
      "Analisando doc 1600\n",
      "Analisando doc 1700\n",
      "Analisando doc 1800\n",
      "Analisando doc 1900\n",
      "Analisando doc 2000\n",
      "Analisando doc 2100\n",
      "Analisando doc 2200\n",
      "Analisando doc 2300\n",
      "Analisando doc 2400\n",
      "Analisando doc 2500\n",
      "Analisando doc 2600\n",
      "Analisando doc 2700\n",
      "Analisando doc 2800\n",
      "\n",
      "\n",
      "\n",
      "Foram encontrados 0 registros com espaço no inicio.\n",
      "Foram encontrados 0 registros com espaço no final.\n",
      "Foram encontrados 0 registros escritos errados.\n",
      "Foram encontrados 2834 registros normais.\n",
      "Foram encontrados 0 registros no limbo.\n"
     ]
    }
   ],
   "source": [
    "(begin_space, end_space, mistyped, normal, limbo) = get_ids_to_fix(docs, [\"5 a 10km\"], \"5 a 10 km\")\n",
    "to_fix = begin_space + end_space + mistyped + limbo"
   ]
  },
  {
   "cell_type": "code",
   "execution_count": 363,
   "metadata": {
    "collapsed": false,
    "scrolled": false
   },
   "outputs": [
    {
     "name": "stdout",
     "output_type": "stream",
     "text": [
      "(u'endemicas_rio_de_janeiro', u'occurrence:rj:3440948')\n",
      "(u'endemicas_rio_de_janeiro', u'occurrence:rj:4034738')\n",
      "Não foram encontrados 0 documentos\n"
     ]
    }
   ],
   "source": [
    "not_found = update_couch(to_fix, \"5 a 10 km\")\n",
    "print \"Não foram encontrados %d documentos\" % len(not_found)"
   ]
  },
  {
   "cell_type": "markdown",
   "metadata": {},
   "source": [
    "#### Caso 4: 10 a 50 km"
   ]
  },
  {
   "cell_type": "code",
   "execution_count": 376,
   "metadata": {
    "collapsed": false
   },
   "outputs": [
    {
     "name": "stdout",
     "output_type": "stream",
     "text": [
      "Got 263 documents\n"
     ]
    }
   ],
   "source": [
    "body=\"\"\"{\n",
    "   \"query\": {\n",
    "      \"bool\": {\n",
    "         \"should\": [\n",
    "            {\n",
    "               \"match\": {\n",
    "                  \"coordinateUncertaintyInMeters\": \"10 a 50 km\"\n",
    "               }\n",
    "            },\n",
    "            {\n",
    "               \"match\": {\n",
    "                  \"coordinateUncertaintyInMeters\": \"10 a 50km\"\n",
    "               }\n",
    "            }\n",
    "         ],\n",
    "         \"minimum_number_should_match\": 1\n",
    "      }\n",
    "   }\n",
    "}\"\"\"\n",
    "docs = search_es(body)"
   ]
  },
  {
   "cell_type": "code",
   "execution_count": 377,
   "metadata": {
    "collapsed": false
   },
   "outputs": [
    {
     "name": "stdout",
     "output_type": "stream",
     "text": [
      "Analisando doc 0\n",
      "Analisando doc 100\n",
      "Analisando doc 200\n",
      "\n",
      "\n",
      "\n",
      "Foram encontrados 0 registros com espaço no inicio.\n",
      "Foram encontrados 0 registros com espaço no final.\n",
      "Foram encontrados 0 registros escritos errados.\n",
      "Foram encontrados 263 registros normais.\n",
      "Foram encontrados 0 registros no limbo.\n"
     ]
    }
   ],
   "source": [
    "(begin_space, end_space, mistyped, normal, limbo) = get_ids_to_fix(docs, [\"10 a 50km\"], \"10 a 50 km\")\n",
    "to_fix = begin_space + end_space + mistyped + limbo"
   ]
  },
  {
   "cell_type": "code",
   "execution_count": 300,
   "metadata": {
    "collapsed": false,
    "scrolled": false
   },
   "outputs": [
    {
     "name": "stdout",
     "output_type": "stream",
     "text": [
      "Não foram encontrados 0 documentos\n"
     ]
    }
   ],
   "source": [
    "not_found = update_couch(to_fix, \"10 a 50 km\")\n",
    "print \"Não foram encontrados %d documentos\" % len(not_found)"
   ]
  },
  {
   "cell_type": "markdown",
   "metadata": {},
   "source": [
    "#### Caso 5: 50 a 100 km"
   ]
  },
  {
   "cell_type": "code",
   "execution_count": 378,
   "metadata": {
    "collapsed": false
   },
   "outputs": [
    {
     "name": "stdout",
     "output_type": "stream",
     "text": [
      "Got 22 documents\n"
     ]
    }
   ],
   "source": [
    "body=\"\"\"{\n",
    "   \"query\": {\n",
    "      \"bool\": {\n",
    "         \"should\": [\n",
    "            {\n",
    "               \"match\": {\n",
    "                  \"coordinateUncertaintyInMeters\": \"50 a 100 km\"\n",
    "               }\n",
    "            }\n",
    "         ],\n",
    "         \"minimum_number_should_match\": 1\n",
    "      }\n",
    "   }\n",
    "}\"\"\"\n",
    "docs = search_es(body)"
   ]
  },
  {
   "cell_type": "code",
   "execution_count": 379,
   "metadata": {
    "collapsed": false
   },
   "outputs": [
    {
     "name": "stdout",
     "output_type": "stream",
     "text": [
      "Analisando doc 0\n",
      "\n",
      "\n",
      "\n",
      "Foram encontrados 0 registros com espaço no inicio.\n",
      "Foram encontrados 0 registros com espaço no final.\n",
      "Foram encontrados 0 registros escritos errados.\n",
      "Foram encontrados 22 registros normais.\n",
      "Foram encontrados 0 registros no limbo.\n"
     ]
    }
   ],
   "source": [
    "(begin_space, end_space, mistyped, normal, limbo) = get_ids_to_fix(docs, [\"50 a 100km\"], \"50 a 100 km\")\n",
    "to_fix = begin_space + end_space + mistyped + limbo"
   ]
  },
  {
   "cell_type": "code",
   "execution_count": 304,
   "metadata": {
    "collapsed": false,
    "scrolled": false
   },
   "outputs": [
    {
     "name": "stdout",
     "output_type": "stream",
     "text": [
      "Não foram encontrados 0 documentos\n"
     ]
    }
   ],
   "source": [
    "not_found = update_couch(to_fix, \"50 a 100 km\")\n",
    "print \"Não foram encontrados %d documentos\" % len(not_found)"
   ]
  },
  {
   "cell_type": "markdown",
   "metadata": {},
   "source": [
    "#### Caso 6: centroide de municipio"
   ]
  },
  {
   "cell_type": "code",
   "execution_count": 380,
   "metadata": {
    "collapsed": false
   },
   "outputs": [
    {
     "name": "stdout",
     "output_type": "stream",
     "text": [
      "Got 2432 documents\n"
     ]
    }
   ],
   "source": [
    "body=\"\"\"{\n",
    "   \"query\": {\n",
    "      \"bool\": {\n",
    "         \"should\": [\n",
    "            {\n",
    "               \"match\": {\n",
    "                  \"coordinateUncertaintyInMeters\": \"centroide de municipio\"\n",
    "               }\n",
    "            }, \n",
    "            {\n",
    "               \"match\": {\n",
    "                  \"coordinateUncertaintyInMeters\": \"centroide de munic\"\n",
    "               }\n",
    "            }, \n",
    "            {\n",
    "               \"match\": {\n",
    "                  \"coordinateUncertaintyInMeters\": \"centroide municipio\"\n",
    "               }\n",
    "            }\n",
    "         ],\n",
    "         \"minimum_number_should_match\": 1\n",
    "      }\n",
    "   }\n",
    "}\"\"\"\n",
    "docs = search_es(body)"
   ]
  },
  {
   "cell_type": "code",
   "execution_count": 381,
   "metadata": {
    "collapsed": false
   },
   "outputs": [
    {
     "name": "stdout",
     "output_type": "stream",
     "text": [
      "Analisando doc 0\n",
      "Analisando doc 100\n",
      "Analisando doc 200\n",
      "Analisando doc 300\n",
      "Analisando doc 400\n",
      "Analisando doc 500\n",
      "Analisando doc 600\n",
      "Analisando doc 700\n",
      "Analisando doc 800\n",
      "Analisando doc 900\n",
      "Analisando doc 1000\n",
      "Analisando doc 1100\n",
      "Analisando doc 1200\n",
      "Analisando doc 1300\n",
      "Analisando doc 1400\n",
      "Analisando doc 1500\n",
      "Analisando doc 1600\n",
      "Analisando doc 1700\n",
      "Analisando doc 1800\n",
      "Analisando doc 1900\n",
      "Analisando doc 2000\n",
      "Analisando doc 2100\n",
      "Analisando doc 2200\n",
      "Analisando doc 2300\n",
      "Analisando doc 2400\n",
      "\n",
      "\n",
      "\n",
      "Foram encontrados 0 registros com espaço no inicio.\n",
      "Foram encontrados 0 registros com espaço no final.\n",
      "Foram encontrados 0 registros escritos errados.\n",
      "Foram encontrados 2432 registros normais.\n",
      "Foram encontrados 0 registros no limbo.\n"
     ]
    }
   ],
   "source": [
    "(begin_space, end_space, mistyped, normal, limbo) = get_ids_to_fix(docs, [\"centroide de munic\", \"centroide municipio\"], \"centroide de municipio\")\n",
    "to_fix = begin_space + end_space + mistyped + limbo"
   ]
  },
  {
   "cell_type": "code",
   "execution_count": 313,
   "metadata": {
    "collapsed": false,
    "scrolled": false
   },
   "outputs": [
    {
     "name": "stdout",
     "output_type": "stream",
     "text": [
      "Não foram encontrados 0 documentos\n"
     ]
    }
   ],
   "source": [
    "not_found = update_couch(to_fix, \"centroide de municipio\")\n",
    "print \"Não foram encontrados %d documentos\" % len(not_found)"
   ]
  },
  {
   "cell_type": "markdown",
   "metadata": {},
   "source": [
    "#### Caso 7: centroide de uc"
   ]
  },
  {
   "cell_type": "code",
   "execution_count": 382,
   "metadata": {
    "collapsed": false
   },
   "outputs": [
    {
     "name": "stdout",
     "output_type": "stream",
     "text": [
      "Got 1720 documents\n"
     ]
    }
   ],
   "source": [
    "body=\"\"\"{\n",
    "   \"query\": {\n",
    "      \"bool\": {\n",
    "         \"should\": [\n",
    "            {\n",
    "               \"match\": {\n",
    "                  \"coordinateUncertaintyInMeters\": \"centroide de uc\"\n",
    "               }\n",
    "            }, \n",
    "            {\n",
    "               \"match\": {\n",
    "                  \"coordinateUncertaintyInMeters\": \"centroide de reserva/parque\"\n",
    "               }\n",
    "            }\n",
    "         ],\n",
    "         \"minimum_number_should_match\": 1\n",
    "      }\n",
    "   }\n",
    "}\"\"\"\n",
    "docs = search_es(body)"
   ]
  },
  {
   "cell_type": "code",
   "execution_count": 383,
   "metadata": {
    "collapsed": false
   },
   "outputs": [
    {
     "name": "stdout",
     "output_type": "stream",
     "text": [
      "Analisando doc 0\n",
      "Analisando doc 100\n",
      "Analisando doc 200\n",
      "Analisando doc 300\n",
      "Analisando doc 400\n",
      "Analisando doc 500\n",
      "Analisando doc 600\n",
      "Analisando doc 700\n",
      "Analisando doc 800\n",
      "Analisando doc 900\n",
      "Analisando doc 1000\n",
      "Analisando doc 1100\n",
      "Analisando doc 1200\n",
      "Analisando doc 1300\n",
      "Analisando doc 1400\n",
      "Analisando doc 1500\n",
      "Analisando doc 1600\n",
      "Analisando doc 1700\n",
      "\n",
      "\n",
      "\n",
      "Foram encontrados 0 registros com espaço no inicio.\n",
      "Foram encontrados 0 registros com espaço no final.\n",
      "Foram encontrados 0 registros escritos errados.\n",
      "Foram encontrados 1720 registros normais.\n",
      "Foram encontrados 0 registros no limbo.\n"
     ]
    }
   ],
   "source": [
    "(begin_space, end_space, mistyped, normal, limbo) = get_ids_to_fix(docs, [\"centroide de reserva/parque\"], \"centroide de uc\")\n",
    "to_fix = begin_space + end_space + mistyped + limbo"
   ]
  },
  {
   "cell_type": "code",
   "execution_count": 322,
   "metadata": {
    "collapsed": false,
    "scrolled": false
   },
   "outputs": [
    {
     "name": "stdout",
     "output_type": "stream",
     "text": [
      "Não foram encontrados 0 documentos\n"
     ]
    }
   ],
   "source": [
    "not_found = update_couch(to_fix, \"centroide de uc\")\n",
    "print \"Não foram encontrados %d documentos\" % len(not_found)"
   ]
  }
 ],
 "metadata": {
  "kernelspec": {
   "display_name": "Python 2",
   "language": "python",
   "name": "python2"
  },
  "language_info": {
   "codemirror_mode": {
    "name": "ipython",
    "version": 2
   },
   "file_extension": ".py",
   "mimetype": "text/x-python",
   "name": "python",
   "nbconvert_exporter": "python",
   "pygments_lexer": "ipython2",
   "version": "2.7.10"
  }
 },
 "nbformat": 4,
 "nbformat_minor": 0
}
