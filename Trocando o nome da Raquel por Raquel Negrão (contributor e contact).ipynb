{
 "cells": [
  {
   "cell_type": "code",
   "execution_count": 2,
   "metadata": {
    "collapsed": true
   },
   "outputs": [],
   "source": [
    "import couchdb\n",
    "import elasticsearch"
   ]
  },
  {
   "cell_type": "markdown",
   "metadata": {},
   "source": [
    "### Passo a passo:\n",
    "1. Recuperar do ES todos os documentos que contêm Raquel\n",
    "+ Para cada documento, verificar se é Raquel ou Raquel Negrão\n",
    "+ Se contiver somente Raquel Negrão, não fazer nada\n",
    "+ Se contiver Raquel e contiver Raquel Negrão, deletar Raquel\n",
    "+ Se somente contiver Raquel, substituir Raquel por Raquel Negrão"
   ]
  },
  {
   "cell_type": "code",
   "execution_count": 3,
   "metadata": {
    "collapsed": false
   },
   "outputs": [
    {
     "data": {
      "text/plain": [
       "True"
      ]
     },
     "execution_count": 3,
     "metadata": {},
     "output_type": "execute_result"
    }
   ],
   "source": [
    "# Set ES connection\n",
    "es = elasticsearch.Elasticsearch('http://10.10.100.48/')\n",
    "es.ping()"
   ]
  },
  {
   "cell_type": "code",
   "execution_count": 22,
   "metadata": {
    "collapsed": true
   },
   "outputs": [],
   "source": [
    "# Set CouchDB connection\n",
    "couch = couchdb.Server('http://10.10.100.48/couchdb')"
   ]
  },
  {
   "cell_type": "code",
   "execution_count": 23,
   "metadata": {
    "collapsed": true
   },
   "outputs": [],
   "source": [
    "body = \"\"\"\n",
    "{\n",
    "    \"query\": {\"match\": {\n",
    "       \"metadata.contributor\": \"raquel\"\n",
    "       }\n",
    "    }\n",
    "}\n",
    "\"\"\""
   ]
  },
  {
   "cell_type": "code",
   "execution_count": 24,
   "metadata": {
    "collapsed": false
   },
   "outputs": [
    {
     "name": "stdout",
     "output_type": "stream",
     "text": [
      "Got 4741 documents\n"
     ]
    }
   ],
   "source": [
    "docs = es.search(index='_all', body=body, size=5000)\n",
    "print \"Got %d documents\" % len(docs['hits']['hits'])"
   ]
  },
  {
   "cell_type": "code",
   "execution_count": 28,
   "metadata": {
    "collapsed": false
   },
   "outputs": [],
   "source": [
    "only_negrao = []\n",
    "only_raquel = []\n",
    "both = []\n",
    "no_raquel = []\n",
    "not_found = []\n",
    "only_one_email = []\n",
    "not_all_email = []\n",
    "antes = []\n",
    "depois = []\n",
    "i = 0\n",
    "\n",
    "for doc in docs['hits']['hits']:\n",
    "    update=False\n",
    "    # Get alias or index name\n",
    "    aliases = es.indices.get_aliases(index=doc[\"_index\"])\n",
    "    if len(aliases[doc[\"_index\"]][\"aliases\"]) == 0:\n",
    "        doc_index = doc[\"_index\"]\n",
    "    else:\n",
    "        doc_index = aliases[doc[\"_index\"]][\"aliases\"].keys()[0]\n",
    "    doc_id = doc['_id']\n",
    "    \n",
    "    # Get document\n",
    "    try:\n",
    "        db = couch[doc_index]\n",
    "    except couchdb.ServerError:\n",
    "        print doc_index\n",
    "        break\n",
    "    doc_couch = db.get(doc_id)\n",
    "    if doc_couch == None:\n",
    "        not_found.append(doc_id)\n",
    "        continue\n",
    "        \n",
    "    # Get fields\n",
    "    contributor = doc_couch['metadata']['contributor']\n",
    "    contact = doc_couch['metadata']['contact']\n",
    "    contributor_array = contributor.split(';')\n",
    "    contact_array = contact.split(';')\n",
    "    contributor_array = [unicode(person.strip()) for person in contributor_array]\n",
    "    contact_array = [unicode(person.strip()) for person in contact_array]\n",
    "    \n",
    "    # Check if contact field has only emails\n",
    "    all_email = True\n",
    "    for email in contact_array:\n",
    "        if '@' not in email and email != '':\n",
    "            all_email = False\n",
    "            break\n",
    "    if not all_email:\n",
    "        not_all_email.append(doc_id)\n",
    "        continue\n",
    "    \n",
    "    if u'Raquel' not in contributor_array and u'Raquel Negrão' in contributor_array:\n",
    "        only_negrao.append(doc_id)\n",
    "    elif u'Raquel' in contributor_array and u'Raquel Negrão' in contributor_array:\n",
    "        both.append(doc_id)\n",
    "        raquel_index = contributor_array.index('Raquel')\n",
    "        del contributor_array[raquel_index]\n",
    "        try:\n",
    "            del contact_array[raquel_index]\n",
    "        except IndexError:\n",
    "            only_one_email.append(doc_id)\n",
    "        doc_couch['metadata']['contributor'] = \" ; \".join(contributor_array)\n",
    "        doc_couch['metadata']['contact'] = \" ; \".join(contact_array)\n",
    "        update = True\n",
    "    elif u'Raquel' in contributor_array and u'Raquel Negrão' not in contributor_array:\n",
    "        only_raquel.append(doc_id)\n",
    "        raquel_index = contributor_array.index('Raquel')\n",
    "        contributor_array[raquel_index] = u'Raquel Negrão'\n",
    "        doc_couch['metadata']['contributor'] = \" ; \".join(contributor_array)\n",
    "        update = True\n",
    "    else:\n",
    "        # Shouldn't happen\n",
    "        no_raquel.append(doc_id)\n",
    "    #if update:\n",
    "        #db.update([doc_couch])   \n",
    "    "
   ]
  },
  {
   "cell_type": "code",
   "execution_count": 29,
   "metadata": {
    "collapsed": false
   },
   "outputs": [
    {
     "name": "stdout",
     "output_type": "stream",
     "text": [
      "Only Negrao: 4731\n",
      "Only Raquel: 0\n",
      "Both: 0\n",
      "Only one email: 0\n",
      "None: 0\n",
      "Ids not found: 10\n",
      "Not all email: 0\n"
     ]
    }
   ],
   "source": [
    "print \"Only Negrao: %d\" % len(only_negrao)\n",
    "print \"Only Raquel: %d\" % len(only_raquel)\n",
    "print \"Both: %d\" % len(both)\n",
    "print \"Only one email: %d\" % len(only_one_email)\n",
    "print \"None: %d\" % len(no_raquel)\n",
    "print \"Ids not found: %d\" % len(not_found)\n",
    "print \"Not all email: %d\" % len(not_all_email)"
   ]
  },
  {
   "cell_type": "markdown",
   "metadata": {},
   "source": [
    "### Consertando docs que não são recuperados pelo id"
   ]
  },
  {
   "cell_type": "code",
   "execution_count": 22,
   "metadata": {
    "collapsed": false
   },
   "outputs": [
    {
     "name": "stdout",
     "output_type": "stream",
     "text": [
      "{u'_score': 2.8374934, u'_type': u'occurrence', u'_id': u'Arbusto c/ 0,5 m de alt. ramos verdes, folhas cori\\xe1ceas discolor verde escuras, ped\\xfanculos lil\\xe1s, flores roxas', u'_source': {u'family': u'Faramea calyciflora A . Rich.', u'institutionCode': u'2014-07-22', u'municipality': u'Rio de Janeiro', u'month': u'1992', u'identifiedBy': u'A . Rich.', u'acceptedNameUsage': u'occurrence:rj:4648900', u'year': u'Gomes, M.', u'id': u'Arbusto c/ 0,5 m de alt. ramos verdes, folhas cori\\xe1ceas discolor verde escuras, ped\\xfanculos lil\\xe1s, flores roxas', u'occurrenceID': u'Arbusto c/ 0,5 m de alt. ramos verdes, folhas cori\\xe1ceas discolor verde escuras, ped\\xfanculos lil\\xe1s, flores roxas', u'stateProvince': u'Brasil', u'rev': u'1-2ed980a27558b78c40dfc6302c30539b', u'comments': u'Faramea calyciflora', u'catalogNumber': u'RB', u'specificEpithet': u'Faramea', u'metadata': {u'creator': u'Raquel', u'created': 1430162160, u'modified': 1430162160, u'contact': u'raquel@cncflora.net', u'contributor': u'Raquel', u'type': u'occurrence'}, u'collectionCode': u'JBRJ', u'infraspecificEpithet': u'calyciflora', u'fieldNumber': u'478', u'day': u'5', u'country': u'8', u'scientificName': u'309432', u'dateIdentified': u'Mario Gomes', u'typeStatus': u'1992-5-8', u'genus': u'RUBIACEAE'}, u'_index': u'endemicas_rio_de_janeiro_2015_08_13_11:05'}\n"
     ]
    }
   ],
   "source": [
    "for doc in docs['hits']['hits']:\n",
    "    # Get alias or index name\n",
    "    aliases = es.indices.get_aliases(index=doc[\"_index\"])\n",
    "    if len(aliases[doc[\"_index\"]][\"aliases\"]) == 0:\n",
    "        doc_index = doc[\"_index\"]\n",
    "    else:\n",
    "        doc_index = aliases[doc[\"_index\"]][\"aliases\"].keys()[0]\n",
    "    doc_id = doc['_id']\n",
    "    \n",
    "    # Get document\n",
    "    try:\n",
    "        db = couch[doc_index]\n",
    "    except couchdb.ServerError:\n",
    "        print doc_index\n",
    "        break\n",
    "    doc_couch = db.get(doc_id)\n",
    "    if doc_couch == None:\n",
    "        print doc\n",
    "        break"
   ]
  },
  {
   "cell_type": "code",
   "execution_count": 35,
   "metadata": {
    "collapsed": false
   },
   "outputs": [
    {
     "name": "stdout",
     "output_type": "stream",
     "text": [
      "24\n",
      "lmoulton@cncflora.net ; Luiz Santos ; Raquel\n",
      "lmoulton@cncflora.net ; luiz@cncflora.net ; Tainan Messina ; Raquel\n",
      "lmoulton@cncflora.net ; luiz@cncflora.net ; Rodrigo Amaro ; Luiz Santos ; Raquel\n",
      "luiz@cncflora.net ; Luiz Santos Filho ; Raquel\n",
      "lmoulton@cncflora.net ; luiz@cncflora.net ; Luiz Santos ; Raquel ; Tainan Messina\n",
      "tainan@cncflora.net ; Tainan Messina ; Raquel Negrão\n",
      "tainan@cncflora.net ; Raquel ; Tainan Messina\n",
      "raquel@cncflora.net ; luiz@cncflora.net ; Luiz Santos Filho ; Raquel Negrão\n",
      "lmoulton@cncflora.net ; raquel@cncflora.net ; luiz@cncflora.net ; Raquel\n",
      "lmoulton@cncflora.net ; raquel@cncflora.net ; luiz@cncflora.net ; Raquel ;  Elsie Franklin Guimarães\n",
      "lmoulton@cncflora.net ; luiz@cncflora.net ; Luiz Santos ; Raquel ; Rodrigo Amaro\n",
      "luiz@cncflora.net ; Luiz Santos Filho ; Raquel Negrão\n",
      "lmoulton@cncflora.net ; raquel@cncflora.net ; luiz@cncflora.net ; Raquel ; Massimo Bovini\n",
      "lmoulton@cncflora.net ; luiz@cncflora.net ; Raquel\n",
      "raquel@cncflora.net ; luiz@cncflora.net ; Raquel\n",
      "lmoulton@cncflora.net ; luiz@cncflora.net ; Luiz Santos ; Raquel\n",
      "lmoulton@cncflora.net ; luiz@cncflora.net ; Luiz Santos ; Raquel ;  Elsie Franklin Guimarães\n",
      "lmoulton@cncflora.net ; luiz@cncflora.net ; Luiz Santos ; Tainan Messina ; Raquel\n",
      "raquel@cncflora.net ; Raquel\n",
      "tainan@cncflora.net ; Tainan Messina ; Raquel\n",
      "raquel@cncflora.net ; Marta Moraes\n",
      "luiz@cncflora.net ; Luiz Santos Filho ; Diogo Silva ; Raquel\n",
      "lmoulton@cncflora.net ; raquel@cncflora.net ; luiz@cncflora.net ; Luiz Santos ; Raquel\n",
      "raquel@cncflora.net ; luiz@cncflora.net ; Luiz Santos Filho ; Raquel\n"
     ]
    }
   ],
   "source": [
    "print len(set(emails))\n",
    "for email in set(emails):\n",
    "    print email"
   ]
  }
 ],
 "metadata": {
  "kernelspec": {
   "display_name": "Python 2",
   "language": "python",
   "name": "python2"
  },
  "language_info": {
   "codemirror_mode": {
    "name": "ipython",
    "version": 2
   },
   "file_extension": ".py",
   "mimetype": "text/x-python",
   "name": "python",
   "nbconvert_exporter": "python",
   "pygments_lexer": "ipython2",
   "version": "2.7.10"
  }
 },
 "nbformat": 4,
 "nbformat_minor": 0
}
