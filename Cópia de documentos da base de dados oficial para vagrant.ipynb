{
 "cells": [
  {
   "cell_type": "code",
   "execution_count": 1,
   "metadata": {
    "collapsed": true
   },
   "outputs": [],
   "source": [
    "from elasticsearch import Elasticsearch, RequestError, TransportError\n",
    "from elasticsearch.helpers import scan\n",
    "import couchdb\n",
    "import json\n",
    "import pickle\n",
    "from time import sleep\n",
    "from collections import defaultdict"
   ]
  },
  {
   "cell_type": "code",
   "execution_count": 2,
   "metadata": {
    "collapsed": false
   },
   "outputs": [
    {
     "name": "stdout",
     "output_type": "stream",
     "text": [
      "True\n"
     ]
    },
    {
     "data": {
      "text/plain": [
       "True"
      ]
     },
     "execution_count": 2,
     "metadata": {},
     "output_type": "execute_result"
    }
   ],
   "source": [
    "# Set ES connection\n",
    "es = Elasticsearch('http://jb049:32801')\n",
    "print es.ping()\n",
    "es_local = Elasticsearch('http://localhost:9200')\n",
    "\n",
    "es_local.ping()"
   ]
  },
  {
   "cell_type": "code",
   "execution_count": 3,
   "metadata": {
    "collapsed": true
   },
   "outputs": [],
   "source": [
    "# Set types\n",
    "doc_types=['assessment', 'profile', 'occurrence', 'taxon']\n",
    "#doc_types=['assessment', 'profile', 'taxon']\n",
    "query = json.loads('{\"query\": {\"match_all\": {}}}')"
   ]
  },
  {
   "cell_type": "code",
   "execution_count": 9,
   "metadata": {
    "collapsed": false
   },
   "outputs": [
    {
     "name": "stdout",
     "output_type": "stream",
     "text": [
      "Recuperando assessment de plantas_raras_do_cerrado e inserindo no ES local\n",
      "Inseridos 605 itens do tipo assessment do indice plantas_raras_do_cerrado\n",
      "Recuperando profile de plantas_raras_do_cerrado e inserindo no ES local\n",
      "Inseridos 615 itens do tipo profile do indice plantas_raras_do_cerrado\n",
      "Recuperando occurrence de plantas_raras_do_cerrado e inserindo no ES local\n",
      "Inseridos 14346 itens do tipo occurrence do indice plantas_raras_do_cerrado\n",
      "Recuperando taxon de plantas_raras_do_cerrado e inserindo no ES local\n",
      "Inseridos 634 itens do tipo taxon do indice plantas_raras_do_cerrado\n"
     ]
    }
   ],
   "source": [
    "# Get indexes\n",
    "indices = es.indices.get_aliases()\n",
    "try:\n",
    "    del indices['.kibana']\n",
    "except KeyError:\n",
    "    pass\n",
    "#print indices.keys()\n",
    "indices = ['plantas_raras_do_cerrado']\n",
    "\n",
    "i = defaultdict(dict)\n",
    "items_with_id = defaultdict(dict)\n",
    "items_with_extreme = defaultdict(dict)\n",
    "\n",
    "#indices = ['pan_espinhaco_meridional']\n",
    "#doc_types = ['occurrence']\n",
    "#break_flag = False\n",
    "\n",
    "for index in indices:\n",
    "    i[index] = defaultdict(int)\n",
    "    items_with_id[index] = defaultdict(list)\n",
    "    items_with_extreme[index] = defaultdict(list)\n",
    "    \n",
    "    for doc_type in doc_types:\n",
    "        print \"Recuperando %s de %s e inserindo no ES local\" % (doc_type, index)\n",
    "        results = scan(es, index=index, doc_type=doc_type, query=query)      \n",
    "\n",
    "        for item in results:\n",
    "            # Check for docs with _id and _rev fields\n",
    "            try:\n",
    "                del item['_source']['_id']\n",
    "                del item['_source']['_rev']\n",
    "                items_with_id[index][doc_type].append(item['_id'])\n",
    "            except KeyError:\n",
    "                pass\n",
    "            \n",
    "            # Check for docs with different extremeFluctuation mapping\n",
    "            try:\n",
    "                population = item['_source']['population']\n",
    "                try:\n",
    "                    extremeFluctuation = population['extremeFluctuation']['properties']\n",
    "                except TypeError:\n",
    "                    extremeFluctuation = population['extremeFluctuation']\n",
    "                    item['_source']['population']['extremeFluctuation'] = {\"extremeFluctuation\": extremeFluctuation}\n",
    "                    items_with_extreme[index][doc_type].append(item['_id'])\n",
    "            except KeyError:\n",
    "                pass\n",
    "            \n",
    "            # Remove taxon.scientificNameWithoutAuthoship\n",
    "            try:\n",
    "                del item['_source']['taxon']['scientificNameWithoutAuthoship']\n",
    "            except KeyError:\n",
    "                pass\n",
    "            \n",
    "            # Remove taxon.synonyms\n",
    "            try:\n",
    "                del item['_source']['taxon']['synonyms']\n",
    "            except KeyError:\n",
    "                pass\n",
    "                \n",
    "            try:\n",
    "                es_local.index(index=index, doc_type=doc_type, body=item['_source'])\n",
    "                i[index][doc_type]+=1\n",
    "            except RequestError as err:\n",
    "                print err\n",
    "                print item\n",
    "                #break_flag = True\n",
    "\n",
    "            #if break_flag:\n",
    "            #    break\n",
    "            #if not (i[index][doc_type] % 50000):\n",
    "                #print i[index][doc_type]\n",
    "        print \"Inseridos %d itens do tipo %s do indice %s\" % (i[index][doc_type], doc_type, index)"
   ]
  },
  {
   "cell_type": "code",
   "execution_count": 29,
   "metadata": {
    "collapsed": false
   },
   "outputs": [],
   "source": [
    "import pickle\n",
    "pickle.dump( i, open( \"inserted.pkl\", \"wb\" ) )\n",
    "pickle.dump( items_with_id, open( \"items_with_id.pkl\", \"wb\" ) )\n",
    "pickle.dump( items_with_extreme, open( \"items_with_extreme.pkl\", \"wb\" ) )"
   ]
  },
  {
   "cell_type": "code",
   "execution_count": 18,
   "metadata": {
    "collapsed": false
   },
   "outputs": [],
   "source": [
    "import pandas"
   ]
  },
  {
   "cell_type": "code",
   "execution_count": 35,
   "metadata": {
    "collapsed": true
   },
   "outputs": [],
   "source": [
    "df = pandas.DataFrame.from_dict(i)"
   ]
  },
  {
   "cell_type": "code",
   "execution_count": 36,
   "metadata": {
    "collapsed": false
   },
   "outputs": [
    {
     "name": "stdout",
     "output_type": "stream",
     "text": [
      "            endemicas_rio_de_janeiro  especies_indicadas  livro_vermelho_2013  \\\n",
      "assessment                       403                   8                 4617   \n",
      "occurrence                     16281                 489               309482   \n",
      "profile                         1043                  34                 5263   \n",
      "taxon                           1584                  67                15714   \n",
      "\n",
      "            novas_especies  outros  pan_bacia_alto_tocantins  \\\n",
      "assessment               7       0                         7   \n",
      "occurrence              61      22                       783   \n",
      "profile                 10       2                        10   \n",
      "taxon                    7      25                        34   \n",
      "\n",
      "            pan_espinhaco_meridional  pan_grao_mogol  \\\n",
      "assessment                         0               0   \n",
      "occurrence                      8362             259   \n",
      "profile                            0               0   \n",
      "taxon                            131              24   \n",
      "\n",
      "            plantas_raras_do_cerrado  public  \n",
      "assessment                       605    4617  \n",
      "occurrence                     14346  309482  \n",
      "profile                          615    5263  \n",
      "taxon                            634   15714  \n"
     ]
    }
   ],
   "source": [
    "print df"
   ]
  },
  {
   "cell_type": "code",
   "execution_count": 40,
   "metadata": {
    "collapsed": false
   },
   "outputs": [
    {
     "name": "stdout",
     "output_type": "stream",
     "text": [
      "endemicas_rio_de_janeiro     19311\n",
      "especies_indicadas             598\n",
      "livro_vermelho_2013         335076\n",
      "novas_especies                  85\n",
      "outros                          49\n",
      "pan_bacia_alto_tocantins       834\n",
      "pan_espinhaco_meridional      8493\n",
      "pan_grao_mogol                 283\n",
      "plantas_raras_do_cerrado     16200\n",
      "public                      335076\n",
      "dtype: int64\n",
      "Total: 716005\n"
     ]
    }
   ],
   "source": [
    "print df.sum()\n",
    "print \"Total:\", df.sum().sum()"
   ]
  }
 ],
 "metadata": {
  "kernelspec": {
   "display_name": "Python 2",
   "language": "python",
   "name": "python2"
  },
  "language_info": {
   "codemirror_mode": {
    "name": "ipython",
    "version": 2
   },
   "file_extension": ".py",
   "mimetype": "text/x-python",
   "name": "python",
   "nbconvert_exporter": "python",
   "pygments_lexer": "ipython2",
   "version": "2.7.9"
  }
 },
 "nbformat": 4,
 "nbformat_minor": 0
}
