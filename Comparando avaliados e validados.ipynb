{
 "cells": [
  {
   "cell_type": "code",
   "execution_count": 56,
   "metadata": {
    "collapsed": true
   },
   "outputs": [],
   "source": [
    "import pandas"
   ]
  },
  {
   "cell_type": "code",
   "execution_count": 34,
   "metadata": {
    "collapsed": true
   },
   "outputs": [],
   "source": [
    "avaliacao = pandas.read_csv('report.csv')\n",
    "validacao = pandas.read_csv('report1.csv')"
   ]
  },
  {
   "cell_type": "code",
   "execution_count": 35,
   "metadata": {
    "collapsed": false
   },
   "outputs": [],
   "source": [
    "avaliacao.columns = ['avaliacao']\n",
    "validacao.columns = ['validacao']"
   ]
  },
  {
   "cell_type": "code",
   "execution_count": 36,
   "metadata": {
    "collapsed": false
   },
   "outputs": [
    {
     "data": {
      "text/plain": [
       "array(['Anthurium lucidum', 'Peperomia bradei', 'Dalechampia granadilla',\n",
       "       'Cybianthus barrosoanus', 'Octomeria helvola',\n",
       "       'Jacaranda crassifolia', 'Struthanthus maricensis',\n",
       "       'Peperomia arbuscula', 'Phyllanthus itatiaiensis',\n",
       "       'Piper niteroiense', 'Prosthechea serpentilingua',\n",
       "       'Bignonia costata', 'Pleiochiton micranthum',\n",
       "       'Neoregelia camorimiana', 'Acalypha pohliana',\n",
       "       'Octomeria sarcophylla', 'Cynanchum brasiliense',\n",
       "       'Sarcoglottis veyretiae', 'Justicia polita',\n",
       "       'Neoregelia macwilliamsii', 'Ditassa maricaensis',\n",
       "       'Zygostates ovatipetala', 'Octomeria multiflora',\n",
       "       'Neoregelia macahensis', 'Aristolochia raja', 'Aphelandra rigida',\n",
       "       'Piper rumicifolium', 'Psychotria lindleyana',\n",
       "       'Dendropanax trilobus', 'Wunderlichia insignis',\n",
       "       'Struthanthus pentamerus', 'Dasyphyllum leptacanthum',\n",
       "       'Tillandsia sucrei', 'Vriesea goniorachis',\n",
       "       'Neoregelia longipedicellata', 'Miconia gilva',\n",
       "       'Brasiliorchis polyantha', 'Miconia penduliflora',\n",
       "       'Neoregelia petropolitana', 'Ilex schwackeana',\n",
       "       'Anathallis spannageliana', 'Neoregelia tenebrosa',\n",
       "       'Miltonia flava', 'Hapalorchis cymbirostris',\n",
       "       'Nidularium mangaratibense', 'Anthurium nitidulum',\n",
       "       'Prescottia spiranthophylla', 'Trimezia organensis',\n",
       "       'Struthanthus armandianus', 'Herpetacanthus delicatus',\n",
       "       'Nidularium apiculatum', 'Dichorisandra odorata', 'Piper saldanhai',\n",
       "       'Rhynchospora luetzelburgiana', 'Dioscorea oppositiflora',\n",
       "       'Tibouchina virgata', 'Ilex longipetiolata',\n",
       "       'Peperomia pubipeduncula', 'Peperomia humifusa',\n",
       "       'Neoregelia carinata', 'Baccharis ciliata', 'Miconia dichroa',\n",
       "       'Endlicheria balsamea', 'Neoregelia eltoniana',\n",
       "       'Lankesterella parvula', 'Encyclia viridiflora',\n",
       "       'Neoregelia nevaresii', 'Acalypha aspericocca',\n",
       "       'Mikania alexandreae', 'Aniba pedicellata', 'Staurogyne euryphylla',\n",
       "       'Tibouchina thereminiana', 'Tibouchina axillaris',\n",
       "       'Dasyphyllum cryptocephalum', 'Pleiochiton glaziovianum',\n",
       "       'Barbosella macaheensis', 'Ficus nevesiae', 'Stevia organensis',\n",
       "       'Vriesea brassicoides', 'Senecio arctiifolius',\n",
       "       'Monsanima tinguaensis', 'Leandra mouraei',\n",
       "       'Neoregelia abendrothae', 'Piper weddellii', 'Pabstiella purpurea',\n",
       "       'Hydrocotyle ulei', 'Hydrocotyle bradei', 'Huberia triplinervis',\n",
       "       'Dichorisandra oxypetala', 'Behuria mouraei', 'Dichorisandra picta',\n",
       "       'Bisglaziovia behurioides', 'Anemia candidoi',\n",
       "       'Mollinedia stenophylla', 'Huberia parvifolia',\n",
       "       'Isoetes organensis', 'Pteris congesta', 'Doryopteris tijucana',\n",
       "       'Anthurium sakuraguianum', 'Leandra niangaeformis',\n",
       "       'Leandra tetragona', 'Leandra sessiliflora', 'Thelypteris refracta',\n",
       "       'Philodendron luisae', 'Apochloa tijucae', 'Chusquea sclerophylla',\n",
       "       'Dichanthelium cucaense', 'Dichanthelium petropolitanum',\n",
       "       'Meriania longipes', 'Renvoizea glaziovii', 'Ouratea polita',\n",
       "       'Magdalenaea limae', 'Vriesea leptantha', 'Dendropanax langsdorfii',\n",
       "       'Rinorea laevigata', 'Centroglossa greeniana', 'Stylogyne sordida',\n",
       "       'Neoregelia leucophoea', 'Austrocritonia rosea', 'Miconia rabenii',\n",
       "       'Nidularium fradense', 'Vriesea costae', 'Eurystyles lobata',\n",
       "       'Rodriguezia bifolia', 'Piper lundii', 'Miconia gigantea',\n",
       "       'Stephanopodium sessile', 'Leandra multisetosa',\n",
       "       'Stevia verticillata', 'Hapalorchis panduratus',\n",
       "       'Vriesea atrococcinea', 'Neomarica longifolia',\n",
       "       'Fridericia elegans', 'Stylogyne araujoana',\n",
       "       'Lytocaryum weddellianum', 'Ilex virgata', 'Acalypha ampliata',\n",
       "       'Barrosoa viridiflora', 'Aspidosperma ingratum',\n",
       "       'Sorocea carautana', 'Cyclopogon venustus', 'Anthurium augustinum',\n",
       "       'Tillandsia grazielae', 'Vriesea pastuchoffiana',\n",
       "       'Neoregelia coimbrae', 'Miconia cinerea',\n",
       "       'Pabstiella gracilicaulis', 'Anthurium lhotzkyanum',\n",
       "       'Dioscorea bradei', 'Nidularium altimontanum',\n",
       "       'Neoregelia paratiensis', 'Neomarica itatiaica',\n",
       "       'Pabstiella crassicaulis', 'Pleiochiton magdalenense',\n",
       "       'Neoregelia rubrovittata', 'Pelexia mouraei', 'Anthurium aduncum',\n",
       "       'Nectandra spicata', 'Stevia dubia', 'Symplocos organensis',\n",
       "       'Sebastiania pteroclada', 'Strychnos jacarepiensis',\n",
       "       'Euphorbia laevigata', 'Graphistylis cuneifolia',\n",
       "       'Miconia eichleri', 'Tibouchina maximiliana',\n",
       "       'Nidularium organense', 'Duguetia microphylla',\n",
       "       'Eurystyles rutkowskiana', 'Stelis palmeiraensis',\n",
       "       'Pygmaeorchis brasiliensis', 'Pabstiella spathuliglossa',\n",
       "       'Coussarea biflora', 'Vriesea thyrsoidea', 'Piper rioense',\n",
       "       'Piptocarpha verticillata', 'Nidularium itatiaiae',\n",
       "       'Tillandsia carminea', 'Trigynaea axilliflora',\n",
       "       'Symplocos glaziovii', 'Pabstiella elegantula',\n",
       "       'Campomanesia lundiana', 'Coccoloba rigida', 'Miconia subvernicosa',\n",
       "       'Austrocritonia taunayana', 'Pabstiella calcarata',\n",
       "       'Oxypetalum costae', 'Neoregelia correia-araujoi',\n",
       "       'Vriesea lidicensis', 'Adenocalymma bullatum', 'Tibouchina alata',\n",
       "       'Neoregelia fluminensis', 'Euphorbia sabulicola',\n",
       "       'Acianthera subrotundifolia', 'Acianthera bidentata',\n",
       "       'Clidemia raddiana', 'Huberia minor', 'Doryopteris magdalenensis',\n",
       "       'Stenogrammitis luetzelburgii', 'Leandra breviflora',\n",
       "       'Aeschynomene bradei', 'Salvia rivularis', 'Salvia benthamiana',\n",
       "       'Doryopteris quinquelobata', 'Salvia longibracteolata',\n",
       "       'Leandra freyreissii', 'Meriania glabra', 'Meriania excelsa',\n",
       "       'Chusquea wilkesii', 'Ouratea grandifolia', 'Ouratea campos-portoi',\n",
       "       'Ouratea stipulata', 'Ocotea abbreviata', 'Nidularium atalaiaense',\n",
       "       'Conchocarpus paniculatus', 'Hirtella barrosoi',\n",
       "       'Ditassa subumbellata', 'Prepusa hookeriana', 'Tibouchina discolor',\n",
       "       'Neoregelia roethii', 'Stigmaphyllon carautae', 'Annona ferruginea',\n",
       "       'Cleistes liliastrum', 'Ocotea schwackeana', 'Anthurium laucheanum',\n",
       "       'Duguetia pohliana', 'Tillandsia organensis', 'Tibouchina cristata',\n",
       "       'Miconia pseudoeichleri', 'Anathallis lichenophila',\n",
       "       'Anthurium bragae', 'Tillandsia roseiflora',\n",
       "       'Peperomia papillispica', 'Prepusa alata', 'Pradosia glaziovii',\n",
       "       'Roupala gracilis', 'Herpetacanthus parvispica',\n",
       "       'Neoregelia ilhana', 'Orthosia arenosa', 'Neoregelia gavionensis',\n",
       "       'Beilschmiedia stricta', 'Mikania paranahybensis',\n",
       "       'Abatia microphylla', 'Ophryosporus organensis',\n",
       "       'Mikania hastifolia', 'Miconia augusti', 'Cleistes miersii',\n",
       "       'Miconia laeta', 'Bronwenia peckoltii', 'Nidularium utriculosum',\n",
       "       'Nidularium viridipetalum', 'Dioscorea campanulata',\n",
       "       'Mollinedia acutissima', 'Dorstenia brevipetiolata',\n",
       "       'Neoregelia kuhlmannii', 'Pabstia placanthera',\n",
       "       'Stephanopodium sessile', 'Rhynchospora sampaioana',\n",
       "       'Mouriri arenicola', 'Symplocos neglecta',\n",
       "       'Beilschmiedia angustifolia', 'Piper crebrinodum',\n",
       "       'Ocotea sinaiana', 'Justicia nervata', 'Anthurium simonii',\n",
       "       'Ilex organensis', 'Vriesea fradensis', 'Struthanthus involucratus',\n",
       "       'Souroubea platyadenia', 'Licania glazioviana',\n",
       "       'Dorstenia fischeri', 'Wolffiella neotropica',\n",
       "       'Epidendrum goebelii', 'Miconia fluminensis', 'Neoregelia coriacea',\n",
       "       'Mikania casarettoi', 'Sauroglossum organense', 'Annona parviflora',\n",
       "       'Octomeria rodeiensis', 'Rodriguezia sucrei', 'Gomesa messmeriana',\n",
       "       'Miconia ovalifolia', 'Habenaria gnoma', 'Specklinia hymenantha',\n",
       "       'Campylocentrum organense', 'Stigmaphyllon affine',\n",
       "       'Trichogoniopsis podocarpa', 'Vriesea garlippiana',\n",
       "       'Piper morisonianum', 'Pelexia luetzelburgii',\n",
       "       'Maxillaria pterocarpa', 'Trigonidium turbinatum',\n",
       "       'Anthurium binotii', 'Tillandsia brachyphylla',\n",
       "       'Pleiochiton parvifolium', 'Epistephium portellianum',\n",
       "       'Sauroglossum odoratum', 'Hiraea restingae ',\n",
       "       'Dendropanax heterophyllus', 'Mollinedia marliae',\n",
       "       'Behuria huberioides', 'Behuria cordifolia', 'Behuria glazioviana',\n",
       "       'Behuria organensis', 'Epidendrum harrisoniae',\n",
       "       'Asplenium cariocanum', 'Leandra altomacaensis',\n",
       "       'Leandra atroviridis', 'Leandra mollis', 'Leandra depauperata',\n",
       "       'Leandra chaetocalyx', 'Hyptis cymulosa', 'Manettia lutescens',\n",
       "       'Passiflora imbeana', 'Passiflora farneyi',\n",
       "       'Dichanthelium itatiaiae', 'Glaziophyton mirabile',\n",
       "       'Podostemum saldanhanum', 'Trisetum brasiliense',\n",
       "       'Lupinus dusenianus', 'Lupinus hasslerianus', 'Xyris organensis',\n",
       "       'Ouratea miersii', 'Tillandsia nuptialis', 'Vriesea altomacaensis',\n",
       "       'Struthanthus dorothyi', 'Hadrolaelia acuensis',\n",
       "       'Wilbrandia glaziovii', 'Hoffmannseggella alvaroana',\n",
       "       'Lankesterella pilosa', 'Couratari pyramidata',\n",
       "       'Solanum friburgense', 'Octomeria fimbriata', 'Tillandsia neglecta',\n",
       "       'Kielmeyera insignis', 'Philodendron alternans',\n",
       "       'Neoregelia indecora', 'Nidularium angustifolium',\n",
       "       'Hornschuchia alba', 'Neoregelia desenganensis',\n",
       "       'Octomeria aetheoantha', 'Mollinedia corcovadensis',\n",
       "       'Neomarica northiana', 'Miconia oblongifolia',\n",
       "       'Tetragastris breviacuminata', 'Tibouchina benthamiana',\n",
       "       'Justicia itatiaiensis', 'Rodriguezia leucantha',\n",
       "       'Tibouchina elegans', 'Aphelandra stephanophysa',\n",
       "       'Baccharis bifrons', 'Vriesea nubicola', 'Symplocos occulta',\n",
       "       'Pelexia longibracteata', 'Austroeupatorium petrophilum',\n",
       "       'Macropeplus friburgensis', 'Piper translucens', 'Prepusa connata',\n",
       "       'Brasilaelia fidelensis', 'Brasiliorchis moutinhoi',\n",
       "       'Asterostigma concinnum', 'Strychnos dantaensis',\n",
       "       'Polygala revoluta', 'Symplocos altissima',\n",
       "       'Rauhiella brasiliensis', 'Acalypha subsana',\n",
       "       'Struthanthus harlingianus', 'Grazielanthus arkeocarpus',\n",
       "       'Nidularium rosulatum', 'Phyllanthus rosmarinifolius',\n",
       "       'Piper trigonodrupum', 'Octomeria minuta', 'Pabstiella pantherina',\n",
       "       'Octomeria rodriguesii', 'Brasilidium dasytyle',\n",
       "       'Forsteronia linearis', 'Tibouchina schwackei', 'Ditassa fontellae',\n",
       "       'Orthosia umbrosa', 'Acianthera exdrasii',\n",
       "       'Dichorisandra fluminensis', 'Symplocos dasyphylla',\n",
       "       'Dichorisandra gaudichaudiana', 'Macropodina bradei',\n",
       "       'Anthurium validinervium', 'Vriesea gastiniana',\n",
       "       'Octomeria itatiaiae', 'Pabstiella tabacina',\n",
       "       'Aspidosperma compactinervium', 'Luxemburgia glazioviana',\n",
       "       'Couepia parvifolia', 'Dioscorea sphaeroidea',\n",
       "       'Miconia elaeodendron', 'Unonopsis riedeliana',\n",
       "       'Anathallis githaginea', 'Vriesea fidelensis',\n",
       "       'Hydrocotyle alpestris', 'Lessingianthus glaziovianus',\n",
       "       'Behuria corymbosa', 'Behuria magdalenensis',\n",
       "       'Bertolonia valenteana', 'Elaphoglossum mourae', 'Isoetes ulei',\n",
       "       'Leandra atrata', 'Dahlstedtia grandiflora',\n",
       "       'Doryopteris subsimplex', 'Dahlstedtia glaziovii',\n",
       "       'Leandra dentata', 'Leandra sphaerocarpa', 'Leandra organensis',\n",
       "       'Leandra markgrafii', 'Leandra schwackei', 'Dalbergia glaziovii',\n",
       "       'Inga arenicola', 'Meriania glazioviana', 'Ilex friburgensis',\n",
       "       'Luetzelburgia trialata', 'Meriania robusta', 'Ocotea leucophloea',\n",
       "       'Aphelandra bradeana', 'Marcgravia comosa', 'Capsicum friburgense',\n",
       "       'Neoregelia martinellii', 'Cybianthus gracillimus',\n",
       "       'Psittacanthus pluricotyledonarius', 'Aosa uleana',\n",
       "       'Philodendron millerianum', 'Tibouchina pallida',\n",
       "       'Miconia glazioviana', 'Gurania cogniauxiana',\n",
       "       'Heteropterys ternstroemiifolia', 'Bonamia umbellata',\n",
       "       'Pleiochiton longipetiolatum', 'Justicia meyeniana',\n",
       "       'Neoregelia fosteriana', 'Mikania vauthieriana',\n",
       "       'Campylocentrum calostachyum', 'Piper giordanoi',\n",
       "       'Acalypha peckoltii', 'Neoregelia lactea', 'Stylogyne leptantha',\n",
       "       'Vriesea fontourae', 'Baccharis friburgensis', 'Miconia ovata',\n",
       "       'Heteropterys occhionii', 'Staurogyne brachiata',\n",
       "       'Dichorisandra nana', 'Actinostemon mandiocanus',\n",
       "       'Miconia klotzschii', 'Vriesea croceana', 'Pabstiella dracula',\n",
       "       'Terminalia acuminata', 'Philodendron fragile',\n",
       "       'Octomeria cariocana', 'Anathallis rubrolimbata', 'Vanilla dungsii',\n",
       "       'Epidendrum ammophilum', 'Banisteriopsis magdalenensis',\n",
       "       'Nidularium fulgens', 'Calea wedelioides', 'Piper halesiifolium',\n",
       "       'Callisthene dryadum', 'Trilepis tenuis', 'Critoniopsis magdalenae',\n",
       "       'Phymatidium limae', 'Acalypha radicans', 'Coppensia edmundoi',\n",
       "       'Eryngium fluminense', 'Mollinedia longicuspidata',\n",
       "       'Kielmeyera aureovinosa', 'Baccharis pseudovaccinioides',\n",
       "       'Tillandsia reclinata', 'Anathallis pubipetala',\n",
       "       'Rauhiella seehaweri', 'Pleurothallis jacarepaguaensis',\n",
       "       'Neoregelia bragarum', 'Neoregelia sapiatibensis',\n",
       "       'Tibouchina hirsutissima', 'Vriesea botafogensis',\n",
       "       'Mezilaurus navalium', 'Tibouchina cordifolia',\n",
       "       'Brasiliorchis heismanniana', 'Tillandsia thiekenii',\n",
       "       'Habenaria gnoma', 'Bulbophyllum macroceras', 'Kielmeyera excelsa',\n",
       "       'Neoregelia watersiana', 'Piper emygdioi', 'Peperomia riedeliana',\n",
       "       'Cyclopogon proboscideus', 'Trigynaea axilliflora',\n",
       "       'Janusia diminuta', 'Ocotea sulcata', 'Baccharis alpestris',\n",
       "       'Kielmeyera gracilis', 'Phyllanthus mocotensis',\n",
       "       'Catasetum globiflorum', 'Acianthera pavimentata',\n",
       "       'Cyclopogon gardneri', 'Lankesterella spannageliana',\n",
       "       'Ilex cognata', 'Mikania pteropoda', 'Octomeria pumila',\n",
       "       'Anathallis flammea', 'Ilex glazioviana', 'Marsdenia glaziovii',\n",
       "       'Behuria edmundoi', 'Behuria limae', 'Bertolonia grazielae',\n",
       "       'Baptistonia pulchella', 'Asplenium cariocanum',\n",
       "       'Ctenitis flexuosa', 'Isoetes goebelii', 'Bauhinia albicans',\n",
       "       'Pecluma imbeana', 'Moranopteris xbradei', 'Leandra alpestris',\n",
       "       'Anthurium cronembergerae', 'Scutellaria tubiflora',\n",
       "       'Leandra rubida', 'Leandra magdalenensis', 'Leandra laxa',\n",
       "       'Leandra saldanhaei', 'Paepalanthus ovatus',\n",
       "       'Picramnia grandifolia', 'Chusquea tenuis', 'Inga enterolobioides',\n",
       "       'Renvoizea teretifolia', 'Octomeria cochlearis'], dtype=object)"
      ]
     },
     "execution_count": 36,
     "metadata": {},
     "output_type": "execute_result"
    }
   ],
   "source": [
    "avaliacao['avaliacao'].values"
   ]
  },
  {
   "cell_type": "code",
   "execution_count": 37,
   "metadata": {
    "collapsed": false
   },
   "outputs": [],
   "source": [
    "both_set = set(avaliacao['avaliacao'].values.tolist()) & set(validacao['validacao'].values.tolist())"
   ]
  },
  {
   "cell_type": "code",
   "execution_count": 40,
   "metadata": {
    "collapsed": false
   },
   "outputs": [
    {
     "data": {
      "text/plain": [
       "525"
      ]
     },
     "execution_count": 40,
     "metadata": {},
     "output_type": "execute_result"
    }
   ],
   "source": [
    "len(set(avaliacao['avaliacao'].values.tolist()))"
   ]
  },
  {
   "cell_type": "code",
   "execution_count": 41,
   "metadata": {
    "collapsed": false
   },
   "outputs": [
    {
     "data": {
      "text/plain": [
       "439"
      ]
     },
     "execution_count": 41,
     "metadata": {},
     "output_type": "execute_result"
    }
   ],
   "source": [
    "len(set(validacao['validacao'].values.tolist()))"
   ]
  },
  {
   "cell_type": "code",
   "execution_count": 38,
   "metadata": {
    "collapsed": false
   },
   "outputs": [
    {
     "data": {
      "text/plain": [
       "141"
      ]
     },
     "execution_count": 38,
     "metadata": {},
     "output_type": "execute_result"
    }
   ],
   "source": [
    "len(both_set)"
   ]
  },
  {
   "cell_type": "code",
   "execution_count": 39,
   "metadata": {
    "collapsed": false
   },
   "outputs": [
    {
     "name": "stdout",
     "output_type": "stream",
     "text": [
      "set(['Pelexia luetzelburgii', 'Meriania glabra', 'Anthurium bragae', 'Neomarica northiana', 'Leandra mouraei', 'Neoregelia eltoniana', 'Anthurium validinervium', 'Miconia penduliflora', 'Anthurium laucheanum', 'Tillandsia organensis', 'Prepusa connata', 'Sauroglossum organense', 'Stephanopodium sessile', 'Trimezia organensis', 'Senecio arctiifolius', 'Kielmeyera gracilis', 'Mollinedia acutissima', 'Bisglaziovia behurioides', 'Tillandsia carminea', 'Anthurium augustinum', 'Anthurium nitidulum', 'Pelexia mouraei', 'Bauhinia albicans', 'Vriesea lidicensis', 'Vriesea altomacaensis', 'Vriesea botafogensis', 'Staurogyne brachiata', 'Aspidosperma ingratum', 'Terminalia acuminata', 'Zygostates ovatipetala', 'Octomeria sarcophylla', 'Miconia eichleri', 'Ouratea polita', 'Leandra rubida', 'Dendropanax langsdorfii', 'Hapalorchis cymbirostris', 'Leandra sessiliflora', 'Dichorisandra gaudichaudiana', 'Abatia microphylla', 'Symplocos altissima', 'Isoetes organensis', 'Catasetum globiflorum', 'Mollinedia stenophylla', 'Nidularium utriculosum', 'Leandra mollis', 'Marcgravia comosa', 'Luxemburgia glazioviana', 'Ouratea campos-portoi', 'Kielmeyera excelsa', 'Justicia polita', 'Leandra dentata', 'Eurystyles rutkowskiana', 'Baccharis bifrons', 'Tibouchina axillaris', 'Wunderlichia insignis', 'Dioscorea bradei', 'Beilschmiedia angustifolia', 'Ocotea schwackeana', 'Cleistes miersii', 'Justicia meyeniana', 'Symplocos organensis', 'Aristolochia raja', 'Ouratea grandifolia', 'Anthurium binotii', 'Vriesea leptantha', 'Nidularium fulgens', 'Stigmaphyllon carautae', 'Aniba pedicellata', 'Vriesea goniorachis', 'Nidularium rosulatum', 'Doryopteris quinquelobata', 'Ouratea stipulata', 'Salvia benthamiana', 'Tetragastris breviacuminata', 'Aphelandra stephanophysa', 'Fridericia elegans', 'Neoregelia abendrothae', 'Tillandsia reclinata', 'Tillandsia thiekenii', 'Symplocos dasyphylla', 'Lupinus dusenianus', 'Dalbergia glaziovii', 'Nectandra spicata', 'Tillandsia roseiflora', 'Dendropanax trilobus', 'Lankesterella spannageliana', 'Nidularium apiculatum', 'Neomarica itatiaica', 'Herpetacanthus delicatus', 'Tibouchina benthamiana', 'Stigmaphyllon affine', 'Doryopteris magdalenensis', 'Austrocritonia rosea', 'Tillandsia neglecta', 'Dendropanax heterophyllus', 'Mezilaurus navalium', 'Anthurium lhotzkyanum', 'Psychotria lindleyana', 'Leandra niangaeformis', 'Mollinedia marliae', 'Rhynchospora luetzelburgiana', 'Leandra laxa', 'Heteropterys ternstroemiifolia', 'Macropeplus friburgensis', 'Renvoizea teretifolia', 'Cyclopogon proboscideus', 'Neoregelia roethii', 'Leandra freyreissii', 'Renvoizea glaziovii', 'Acalypha ampliata', 'Piper crebrinodum', 'Austrocritonia taunayana', 'Luetzelburgia trialata', 'Prepusa hookeriana', 'Piper niteroiense', 'Anathallis pubipetala', 'Bronwenia peckoltii', 'Tibouchina maximiliana', 'Lytocaryum weddellianum', 'Leandra alpestris', 'Ficus nevesiae', 'Glaziophyton mirabile', 'Epidendrum ammophilum', 'Pabstiella gracilicaulis', 'Gurania cogniauxiana', 'Anthurium lucidum', 'Mollinedia corcovadensis', 'Salvia rivularis', 'Doryopteris subsimplex', 'Stelis palmeiraensis', 'Leandra multisetosa', 'Couratari pyramidata', 'Rinorea laevigata', 'Ouratea miersii', 'Eurystyles lobata', 'Pabstiella spathuliglossa', 'Aspidosperma compactinervium', 'Orthosia arenosa', 'Thelypteris refracta', 'Eryngium fluminense', 'Dasyphyllum leptacanthum'])\n"
     ]
    }
   ],
   "source": [
    "print both_set"
   ]
  },
  {
   "cell_type": "code",
   "execution_count": 42,
   "metadata": {
    "collapsed": true
   },
   "outputs": [],
   "source": [
    "avaliacao_not_validacao_set = set(avaliacao['avaliacao'].values.tolist()) - set(validacao['validacao'].values.tolist())"
   ]
  },
  {
   "cell_type": "code",
   "execution_count": 43,
   "metadata": {
    "collapsed": false
   },
   "outputs": [
    {
     "data": {
      "text/plain": [
       "384"
      ]
     },
     "execution_count": 43,
     "metadata": {},
     "output_type": "execute_result"
    }
   ],
   "source": [
    "len(avaliacao_not_validacao_set)"
   ]
  },
  {
   "cell_type": "code",
   "execution_count": 48,
   "metadata": {
    "collapsed": false
   },
   "outputs": [
    {
     "name": "stdout",
     "output_type": "stream",
     "text": [
      "set(['Stevia dubia', 'Octomeria rodriguesii', 'Oxypetalum costae', 'Acalypha subsana', 'Chusquea sclerophylla', 'Mikania casarettoi', 'Mikania pteropoda', 'Tillandsia brachyphylla', 'Sebastiania pteroclada', 'Jacaranda crassifolia', 'Miconia pseudoeichleri', 'Peperomia riedeliana', 'Anathallis spannageliana', 'Duguetia pohliana', 'Annona parviflora', 'Leandra magdalenensis', 'Behuria glazioviana', 'Mikania alexandreae', 'Duguetia microphylla', 'Struthanthus involucratus', 'Meriania glazioviana', 'Neoregelia gavionensis', 'Miconia ovalifolia', 'Miconia oblongifolia', 'Piper lundii', 'Ophryosporus organensis', 'Banisteriopsis magdalenensis', 'Sarcoglottis veyretiae', 'Xyris organensis', 'Graphistylis cuneifolia', 'Ocotea sulcata', 'Acalypha pohliana', 'Nidularium mangaratibense', 'Pleiochiton magdalenense', 'Baccharis friburgensis', 'Acalypha aspericocca', 'Meriania longipes', 'Struthanthus harlingianus', 'Peperomia humifusa', 'Campylocentrum calostachyum', 'Leandra schwackei', 'Behuria edmundoi', 'Monsanima tinguaensis', 'Piper giordanoi', 'Philodendron alternans', 'Bertolonia grazielae', 'Stevia verticillata', 'Cybianthus barrosoanus', 'Anthurium simonii', 'Euphorbia sabulicola', 'Dioscorea campanulata', 'Neoregelia desenganensis', 'Neoregelia macwilliamsii', 'Strychnos jacarepiensis', 'Stylogyne sordida', 'Leandra altomacaensis', 'Stevia organensis', 'Trilepis tenuis', 'Lankesterella pilosa', 'Podostemum saldanhanum', 'Moranopteris xbradei', 'Miconia subvernicosa', 'Bulbophyllum macroceras', 'Octomeria fimbriata', 'Mikania paranahybensis', 'Vriesea brassicoides', 'Miltonia flava', 'Octomeria itatiaiae', 'Doryopteris tijucana', 'Phyllanthus mocotensis', 'Staurogyne euryphylla', 'Bignonia costata', 'Octomeria helvola', 'Tillandsia grazielae', 'Elaphoglossum mourae', 'Hapalorchis panduratus', 'Neoregelia coriacea', 'Behuria corymbosa', 'Neoregelia nevaresii', 'Behuria cordifolia', 'Miconia klotzschii', 'Beilschmiedia stricta', 'Dioscorea oppositiflora', 'Trigynaea axilliflora', 'Piper morisonianum', 'Leandra atroviridis', 'Piper halesiifolium', 'Stylogyne leptantha', 'Anathallis flammea', 'Ilex longipetiolata', 'Dichorisandra fluminensis', 'Epistephium portellianum', 'Rodriguezia bifolia', 'Specklinia hymenantha', 'Ocotea leucophloea', 'Huberia minor', 'Vriesea gastiniana', 'Callisthene dryadum', 'Anemia candidoi', 'Dichanthelium petropolitanum', 'Nidularium angustifolium', 'Octomeria pumila', 'Dorstenia fischeri', 'Phymatidium limae', 'Brasiliorchis polyantha', 'Leandra markgrafii', 'Cleistes liliastrum', 'Nidularium atalaiaense', 'Dichanthelium itatiaiae', 'Acianthera subrotundifolia', 'Meriania robusta', 'Leandra chaetocalyx', 'Polygala revoluta', 'Neoregelia ilhana', 'Miconia gigantea', 'Stenogrammitis luetzelburgii', 'Hirtella barrosoi', 'Brasilidium dasytyle', 'Baccharis alpestris', 'Hoffmannseggella alvaroana', 'Neoregelia fosteriana', 'Mikania vauthieriana', 'Meriania excelsa', 'Philodendron millerianum', 'Dahlstedtia glaziovii', 'Rauhiella seehaweri', 'Justicia nervata', 'Peperomia papillispica', 'Maxillaria pterocarpa', 'Neoregelia watersiana', 'Trigonidium turbinatum', 'Lankesterella parvula', 'Ilex virgata', 'Symplocos neglecta', 'Ditassa fontellae', 'Vriesea pastuchoffiana', 'Nidularium viridipetalum', 'Aphelandra rigida', 'Piper weddellii', 'Couepia parvifolia', 'Annona ferruginea', 'Miconia gilva', 'Licania glazioviana', 'Piper rumicifolium', 'Paepalanthus ovatus', 'Octomeria aetheoantha', 'Dichanthelium cucaense', 'Hydrocotyle alpestris', 'Miconia ovata', 'Neoregelia kuhlmannii', 'Behuria mouraei', 'Ilex schwackeana', 'Cyclopogon gardneri', 'Inga arenicola', 'Vriesea fradensis', 'Piper rioense', 'Vanilla dungsii', 'Phyllanthus rosmarinifolius', 'Macropodina bradei', 'Anthurium cronembergerae', 'Anthurium sakuraguianum', 'Dalechampia granadilla', 'Passiflora farneyi', 'Cynanchum brasiliense', 'Neoregelia fluminensis', 'Peperomia bradei', 'Tibouchina hirsutissima', 'Ilex friburgensis', 'Aosa uleana', 'Orthosia umbrosa', 'Brasiliorchis moutinhoi', 'Pabstiella purpurea', 'Leandra tetragona', 'Struthanthus armandianus', 'Barrosoa viridiflora', 'Baccharis ciliata', 'Strychnos dantaensis', 'Centroglossa greeniana', 'Dioscorea sphaeroidea', 'Pleiochiton longipetiolatum', 'Epidendrum goebelii', 'Roupala gracilis', 'Nidularium fradense', 'Rodriguezia sucrei', 'Neoregelia carinata', 'Hydrocotyle bradei', 'Octomeria multiflora', 'Hiraea restingae ', 'Bertolonia valenteana', 'Acianthera bidentata', 'Manettia lutescens', 'Miconia glazioviana', 'Aphelandra bradeana', 'Dichorisandra oxypetala', 'Mikania hastifolia', 'Mollinedia longicuspidata', 'Pabstia placanthera', 'Vriesea nubicola', 'Forsteronia linearis', 'Pleurothallis jacarepaguaensis', 'Anathallis lichenophila', 'Dasyphyllum cryptocephalum', 'Aeschynomene bradei', 'Pradosia glaziovii', 'Isoetes goebelii', 'Pabstiella dracula', 'Neoregelia petropolitana', 'Tibouchina discolor', 'Marsdenia glaziovii', 'Pelexia longibracteata', 'Wilbrandia glaziovii', 'Prescottia spiranthophylla', 'Lessingianthus glaziovianus', 'Vriesea croceana', 'Octomeria cochlearis', 'Philodendron luisae', 'Dichorisandra nana', 'Ilex organensis', 'Coccoloba rigida', 'Tibouchina schwackei', 'Neoregelia sapiatibensis', 'Hadrolaelia acuensis', 'Heteropterys occhionii', 'Symplocos occulta', 'Octomeria cariocana', 'Ocotea sinaiana', 'Vriesea fidelensis', 'Euphorbia laevigata', 'Sauroglossum odoratum', 'Encyclia viridiflora', 'Struthanthus pentamerus', 'Leandra sphaerocarpa', 'Coussarea biflora', 'Tibouchina cristata', 'Ditassa subumbellata', 'Stylogyne araujoana', 'Vriesea garlippiana', 'Miconia rabenii', 'Vriesea costae', 'Brasilaelia fidelensis', 'Ilex glazioviana', 'Cybianthus gracillimus', 'Behuria organensis', 'Pabstiella calcarata', 'Prepusa alata', 'Piptocarpha verticillata', 'Critoniopsis magdalenae', 'Anthurium aduncum', 'Chusquea wilkesii', 'Trisetum brasiliense', 'Tibouchina elegans', 'Peperomia pubipeduncula', 'Anathallis rubrolimbata', 'Neoregelia leucophoea', 'Piper saldanhai', 'Bonamia umbellata', 'Unonopsis riedeliana', 'Baccharis pseudovaccinioides', 'Acalypha radicans', 'Herpetacanthus parvispica', 'Rodriguezia leucantha', 'Hydrocotyle ulei', 'Pabstiella pantherina', 'Dichorisandra picta', 'Tibouchina cordifolia', 'Struthanthus dorothyi', 'Tibouchina thereminiana', 'Passiflora imbeana', 'Tibouchina virgata', 'Isoetes ulei', 'Neoregelia indecora', 'Pleiochiton glaziovianum', 'Pecluma imbeana', 'Neoregelia camorimiana', 'Neoregelia coimbrae', 'Austroeupatorium petrophilum', 'Vriesea fontourae', 'Miconia fluminensis', 'Baptistonia pulchella', 'Tillandsia sucrei', 'Phyllanthus itatiaiensis', 'Neoregelia rubrovittata', 'Neoregelia paratiensis', 'Psittacanthus pluricotyledonarius', 'Philodendron fragile', 'Neoregelia tenebrosa', 'Souroubea platyadenia', 'Miconia dichroa', 'Anathallis githaginea', 'Prosthechea serpentilingua', 'Behuria magdalenensis', 'Pabstiella tabacina', 'Neoregelia correia-araujoi', 'Neoregelia lactea', 'Endlicheria balsamea', 'Tillandsia nuptialis', 'Campylocentrum organense', 'Neomarica longifolia', 'Ocotea abbreviata', 'Brasiliorchis heismanniana', 'Coppensia edmundoi', 'Leandra depauperata', 'Clidemia raddiana', 'Piper translucens', 'Hyptis cymulosa', 'Leandra breviflora', 'Huberia parvifolia', 'Leandra saldanhaei', 'Kielmeyera aureovinosa', 'Dorstenia brevipetiolata', 'Justicia itatiaiensis', 'Cyclopogon venustus', 'Peperomia arbuscula', 'Neoregelia bragarum', 'Leandra atrata', 'Neoregelia martinellii', 'Lupinus hasslerianus', 'Piper trigonodrupum', 'Chusquea tenuis', 'Tibouchina alata', 'Miconia laeta', 'Pabstiella crassicaulis', 'Rauhiella brasiliensis', 'Acalypha peckoltii', 'Campomanesia lundiana', 'Nidularium itatiaiae', 'Acianthera pavimentata', 'Behuria limae', 'Kielmeyera insignis', 'Miconia augusti', 'Vriesea thyrsoidea', 'Symplocos glaziovii', 'Conchocarpus paniculatus', 'Inga enterolobioides', 'Neoregelia macahensis', 'Picramnia grandifolia', 'Behuria huberioides', 'Pleiochiton micranthum', 'Epidendrum harrisoniae', 'Acianthera exdrasii', 'Salvia longibracteolata', 'Calea wedelioides', 'Capsicum friburgense', 'Rhynchospora sampaioana', 'Pabstiella elegantula', 'Nidularium organense', 'Magdalenaea limae', 'Scutellaria tubiflora', 'Neoregelia longipedicellata', 'Actinostemon mandiocanus', 'Struthanthus maricensis', 'Nidularium altimontanum', 'Janusia diminuta', 'Dichorisandra odorata', 'Sorocea carautana', 'Miconia elaeodendron', 'Grazielanthus arkeocarpus', 'Octomeria rodeiensis', 'Ditassa maricaensis', 'Pteris congesta', 'Ctenitis flexuosa', 'Adenocalymma bullatum', 'Pleiochiton parvifolium', 'Apochloa tijucae', 'Mouriri arenicola', 'Dahlstedtia grandiflora', 'Piper emygdioi', 'Octomeria minuta', 'Solanum friburgense', 'Trichogoniopsis podocarpa', 'Asterostigma concinnum', 'Barbosella macaheensis', 'Leandra organensis', 'Vriesea atrococcinea', 'Huberia triplinervis', 'Tibouchina pallida', 'Habenaria gnoma', 'Pygmaeorchis brasiliensis', 'Hornschuchia alba', 'Miconia cinerea', 'Wolffiella neotropica', 'Ilex cognata', 'Gomesa messmeriana', 'Asplenium cariocanum'])\n"
     ]
    }
   ],
   "source": [
    "print avaliacao_not_validacao_set"
   ]
  },
  {
   "cell_type": "code",
   "execution_count": 44,
   "metadata": {
    "collapsed": true
   },
   "outputs": [],
   "source": [
    "validacao_not_avaliacao_set = set(validacao['validacao'].values.tolist()) - set(avaliacao['avaliacao'].values.tolist())"
   ]
  },
  {
   "cell_type": "code",
   "execution_count": 32,
   "metadata": {
    "collapsed": false
   },
   "outputs": [
    {
     "data": {
      "text/plain": [
       "258"
      ]
     },
     "execution_count": 32,
     "metadata": {},
     "output_type": "execute_result"
    }
   ],
   "source": [
    "len(validacao_not_avaliacao_set)"
   ]
  },
  {
   "cell_type": "code",
   "execution_count": 46,
   "metadata": {
    "collapsed": false
   },
   "outputs": [
    {
     "name": "stdout",
     "output_type": "stream",
     "text": [
      "set(['Fuchsia alpestris', 'Coussarea strigosipes', 'Eryngium goulartii', 'Clusia studartiana', 'Plinia marqueteana', 'Agarista organensis', 'Aechmea prava', 'Fuchsia campos-portoi', 'Griffinia intermedia', 'Begonia velloziana', 'Pitcairnia corcovadensis', 'Begonia depauperata', 'Aechmea cariocae', 'Sinningia lateritia', 'Faramea urophylla', 'Agarista uleana', 'Alcantarea nevaresii', 'Neomitranthes apiculata', 'Pitcairnia wendtiae', 'Myrcia innovans', 'Dyckia martinellii', 'Besleria grandifolia', 'Begonia pseudolubbersii', 'Begonia parvifolia', 'Canistropsis pulcherrima', 'Sinningia cardinalis', 'Canistropsis elata', 'Marlierea langsdorffii', 'Faramea cordifolia', 'Begonia cariocana', 'Barbacenia fanniae', 'Begonia fluminensis', 'Marlierea choriophylla', 'Ildefonsia bibracteata', 'Gaylussacia retivenia', 'Galianthe polygonoides', 'Calyptranthes caudata', 'Faramea anisodonta', 'Canistropsis marceloi', 'Rudgea erythrocarpa', 'Begonia rubropilosa', 'Dioscorea pumilio', 'Faramea platypoda', 'Sinningia helleri', 'Begonia collaris', 'Hindsia glabra', 'Pitcairnia beycalema', 'Asterostigma vellozianum', 'Begonia declinata', 'Calyptranthes anceps', 'Manihot corymbiflora', 'Pitcairnia insularis', 'Mimosa glazioui', 'Sphagnum subhomophyllum', 'Manettia pedunculata', 'Piptadenia polyptera', 'Dioscorea organensis', 'Plinia martinellii', 'Cupania schizoneura', 'Vriesea altimontana', 'Erythroxylum occultum', 'Begonia erecta', 'Begonia cordata', 'Eugenia augustana', 'Rhipsalis flagelliformis', 'Begonia sanguinea', 'Trigonia littoralis', 'Sinningia lindleyi', 'Pitcairnia staminea', 'Vanhouttea fruticulosa', 'Swartzia glazioviana', 'Rudgea discolor', 'Ditassa guilleminiana', 'Clusia immersa', 'Sinningia muscicola', 'Begonia valida', 'Malanea spicata', 'Plinia ilhensis', 'Randia itatiaiae', 'Rhipsalis mesembryanthemoides', 'Vanhouttea lanata', 'Eugenia corcovadensis', 'Goeppertia sphaerocephala', 'Psychotria subspathacea', 'Serjania fluminensis', 'Gaya gaudichaudiana', 'Quesnelia lateralis', 'Anthurium harrisii', 'Sphagnum scorpioides', 'Pitcairnia suaveolens', 'Psychotria wilkesiana', 'Faramea includens', 'Aechmea grazielae', 'Begonia fagifolia', 'Alcantarea tortuosa', 'Palicourea brasiliensis', 'Eugenia decussata', 'Sinningia pusilla', 'Allophylus membranifolius', 'Faramea cardiophylla', 'Cinnamodendron sampaioanum', 'Billbergia brasiliensis', 'Pilosocereus ulei', 'Lepidaploa obtusifolia', 'Psychotria lucidifolia', 'Begonia tomentosa', 'Allophylus heterophyllus', 'Colura itatyana', 'Machaerium legale', 'Davilla glaziovii', 'Elaphoglossum miersii', 'Calyptranthes aromatica', 'Canistropsis correia-araujoi', 'Calyptranthes ursina', 'Faramea leucocalyx', 'Faramea intercedens', 'Faramea heteromera', 'Erythroxylum cincinnatum', 'Goeppertia fatimae', 'Eugenia grandifolia', 'Thalia petersiana', 'Erythroxylum magnoliifolium', 'Hedeoma crenatum', 'Calyptranthes martiusiana', 'Calyptranthes grandiflora', 'Faramea filamentosa', 'Funifera brasiliensis', 'Begonia acetosa', 'Agonandra fluminensis', 'Besleria melancholica', 'Maytenus samydaeformis', 'Leandra pubescens', 'Abutilon esculentum', 'Anemone assisbrasiliana', 'Lupinus russellianus', 'Serjania littoralis', 'Cryptanthus sinuosus', 'Oxypetalum schottii', 'Begonia lunaris', 'Schlumbergera russelliana', 'Coussarea viridis', 'Alcantarea glaziouana', 'Erythroxylum glazioui', 'Alcantarea geniculata', 'Aechmea paratiensis', 'Faramea brachyloba', 'Begonia rotunda', 'Vanhouttea bradeana', 'Erythroxylum gaudichaudii', 'Fuchsia glazioviana', 'Mimosa itatiaiensis', 'Begonia sylvestris', 'Begonia forgetiana', 'Worsleya procera', 'Coussarea coffeoides', 'Psychotria clavipes', 'Peltogyne mattosiana', 'Simira rubra', 'Begonia lubbersii', 'Serjania itatiaiensis', 'Coussarea lanceolata', 'Cupania fluminensis', 'Vriesea saundersii', 'Alcantarea farneyi', 'Mimosa ernestii', 'Begonia ramentacea', 'Sphagnum triporosum', 'Sinningia bulbosa', 'Begonia princeps', 'Serjania hamuligera', 'Manettia fimbriata', 'Triuris alata', 'Barbacenia brevifolia', 'Begonia friburgensis', 'Oxypetalum lutescens', 'Sphagnum amoenum', 'Begonia lanstyakii', 'Vriesea sucrei', 'Eugenia itaguahiensis', 'Rudgea macrophylla', 'Aechmea fasciata', 'Pitcairnia encholirioides', 'Sinningia cochlearis', 'Myrciaria pumila', 'Achetaria latifolia', 'Sinningia hirsuta', 'Billbergia amandae', 'Lepidaploa persicifolia', 'Psychotria caudata', 'Goeppertia dorothyae', 'Erythroxylum lancifolium', 'Martiodendron fluminense', 'Matelea fournieri', 'Algernonia glazioui', 'Conchocarpus sordidus', 'Goeppertia grazielae', 'Chionanthus tenuis', 'Vanhouttea gardneri', 'Faramea calyciflora', 'Cathedra grandiflora', 'Psychotria densicostata', 'Aechmea caesia', 'Salvia altissima', 'Coussarea speciosa', 'Griffinia rochae', 'Rhipsalis triangularis', 'Barbacenia foliosa', 'Faramea micrantha', 'Quesnelia edmundoi', 'Conchocarpus grandiflorus', 'Begonia concinna', 'Aechmea dealbata', 'Ophthalmoblapton macrophyllum', 'Sinningia guttata', 'Tachigali beaurepairei', 'Vriesea warmingii', 'Serjania truncata', 'Psychotria ampla', 'Serjania acuminata', 'Myrcia stewartiana', 'Aechmea squarrosa', 'Dulacia singularis', 'Rhipsalis pentaptera', 'Coussarea procumbens', 'Begonia herteri', 'Begonia semidigitata', 'Barbacenia seubertiana', 'Begonia epipsila', 'Utricularia geminiloba', 'Allophylus exappendiculatus', 'Nematanthus pycnophyllus', 'Neomarica silvestris', 'Faramea porophylla', 'Rhipsalis ormindoi', 'Faramea campanularis', 'Senegalia miersii', 'Chomelia monantha', 'Trigonia rotundifolia', 'Begonia fabulosa', 'Nematanthus serpens', 'Matayba talisioides', 'Pitcairnia albiflos', 'Begonia dentatiloba', 'Begonia aconitifolia', 'Billbergia macracantha', 'Coussarea friburgensis', 'Calyptranthes bimarginata', 'Rudgea insignis', 'Chionanthus fluminensis', 'Geranium brasiliense', 'Quesnelia seideliana', 'Ixora heterophylla', 'Funifera insulae', 'Myrcia velutiflora', 'Begonia jocelinoi', 'Begonia olsoniae', 'Begonia edmundoi', 'Begonia magdalenensis', 'Faramea tinguana', 'Hypolytrum glaziovii', 'Nematanthus mirabilis', 'Matelea quinquedentata', 'Alcantarea martinellii', 'Psychotria brachyandra', 'Cryptanthus bromelioides', 'Abutilon anodoides', 'Begonia arborescens', 'Sinningia gesneriifolia', 'Machaerium obovatum', 'Dyckia pseudococcinea', 'Sphagnum luetzelburgii', 'Faramea aristata', 'Barbacenia squamata', 'Begonia cerasiphylla', 'Barbacenia gaveensis', 'Begonia antonietae', 'Itatiaia cleistopetala', 'Rustia simpsonii', 'Heliconia pseudoaemygdiana', 'Thismia glaziovii', 'Bonamia langsdorffii', 'Begonia acida', 'Begonia bonitoensis', 'Faramea australis', 'Mandevilla crassinoda', 'Begonia densifolia', 'Neomitranthes riedeliana', 'Paullinia marginata', 'Myrcia magnifolia', 'Goeppertia reginae', 'Psychotria brachyanthema', 'Conchocarpus ovatus', 'Eugenia pulcherrima', 'Matayba leucodyctia', 'Erythroxylum ovalifolium', 'Hindsia violacea', 'Psychotria tenuinervis', 'Alcantarea heloisae'])\n"
     ]
    }
   ],
   "source": [
    "print validacao_not_avaliacao_set"
   ]
  },
  {
   "cell_type": "code",
   "execution_count": 68,
   "metadata": {
    "collapsed": false
   },
   "outputs": [],
   "source": [
    "both_set_df = pandas.DataFrame(list(both_set))\n",
    "both_set_df.columns = ['Especie']\n",
    "avaliacao_not_validacao_set_df = pandas.DataFrame(list(avaliacao_not_validacao_set)).sort()\n",
    "avaliacao_not_validacao_set_df.columns = ['Especie']\n",
    "validacao_not_avaliacao_set_df = pandas.DataFrame(list(validacao_not_avaliacao_set)).sort()\n",
    "validacao_not_avaliacao_set_df.columns = ['Especie']"
   ]
  },
  {
   "cell_type": "code",
   "execution_count": 70,
   "metadata": {
    "collapsed": false
   },
   "outputs": [],
   "source": [
    "both_set_df.sort('Especie').to_excel('Validação e avaliação presentes.xls', index=False)\n",
    "avaliacao_not_validacao_set_df.sort('Especie').to_excel('Avaliação mas não está em validação.xls', index=False)\n",
    "validacao_not_avaliacao_set_df.sort('Especie').to_excel('Validação sem avaliação.xls', index=False)"
   ]
  }
 ],
 "metadata": {
  "kernelspec": {
   "display_name": "Python 2",
   "language": "python",
   "name": "python2"
  },
  "language_info": {
   "codemirror_mode": {
    "name": "ipython",
    "version": 2
   },
   "file_extension": ".py",
   "mimetype": "text/x-python",
   "name": "python",
   "nbconvert_exporter": "python",
   "pygments_lexer": "ipython2",
   "version": "2.7.9"
  }
 },
 "nbformat": 4,
 "nbformat_minor": 0
}
