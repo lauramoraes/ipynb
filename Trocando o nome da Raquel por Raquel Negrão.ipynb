{
 "cells": [
  {
   "cell_type": "code",
   "execution_count": 1,
   "metadata": {
    "collapsed": true
   },
   "outputs": [],
   "source": [
    "import couchdb\n",
    "import elasticsearch"
   ]
  },
  {
   "cell_type": "markdown",
   "metadata": {},
   "source": [
    "### Passo a passo:\n",
    "1. Recuperar do ES todos os documentos que contêm Raquel\n",
    "+ Para cada documento, verificar se é Raquel ou Raquel Negrão\n",
    "+ Se contiver somente Raquel Negrão, não fazer nada\n",
    "+ Se contiver Raquel e contiver Raquel Negrão, deletar Raquel\n",
    "+ Se somente contiver Raquel, substituir Raquel por Raquel Negrão"
   ]
  },
  {
   "cell_type": "code",
   "execution_count": null,
   "metadata": {
    "collapsed": true
   },
   "outputs": [],
   "source": [
    "# Set ES connection\n",
    "es = Elasticsearch('http://10.10.100.48:9200/')\n",
    "#es = Elasticsearch('http://cncflora.jbrj.gov.br:80/elasticsearch')\n",
    "es.ping()"
   ]
  }
 ],
 "metadata": {
  "kernelspec": {
   "display_name": "Python 2",
   "language": "python",
   "name": "python2"
  },
  "language_info": {
   "codemirror_mode": {
    "name": "ipython",
    "version": 2
   },
   "file_extension": ".py",
   "mimetype": "text/x-python",
   "name": "python",
   "nbconvert_exporter": "python",
   "pygments_lexer": "ipython2",
   "version": "2.7.9"
  }
 },
 "nbformat": 4,
 "nbformat_minor": 0
}
